{
 "cells": [
  {
   "cell_type": "markdown",
   "metadata": {
    "deletable": false,
    "editable": false,
    "nbgrader": {
     "cell_type": "markdown",
     "checksum": "f7ad8cc4c459ce1b611bb8172c5fe0c2",
     "grade": false,
     "grade_id": "cell-06aa629a0207eeaf",
     "locked": true,
     "schema_version": 3,
     "solution": false,
     "task": false
    }
   },
   "source": [
    "# Exercise Sheet No. 5\n",
    "\n",
    "---\n",
    "\n",
    "> Machine Learning for Natural Sciences, Summer 2021, Jun.-Prof. Pascal Friederich, pascal.friederich@kit.edu\n",
    "> \n",
    "> Deadline: 17.05.2021, 8 am\n",
    "> \n",
    "> Tutor: patrick.reiser@kit.edu  \n",
    "> **Please ask questions in the forum and only contact the Tutor when there are issues with the grading**\n",
    "\n",
    "---\n",
    "\n",
    "**Topic**: This exercise sheet will focus on Bayesian statistics, k-nearest neighbors and monte-carlo simulation."
   ]
  },
  {
   "cell_type": "markdown",
   "metadata": {
    "deletable": false,
    "editable": false,
    "nbgrader": {
     "cell_type": "markdown",
     "checksum": "d2309b76e418af1fe1892da6844d606f",
     "grade": false,
     "grade_id": "cell-b4b7e8190a5548e9",
     "locked": true,
     "schema_version": 3,
     "solution": false,
     "task": false
    }
   },
   "source": [
    "# 5 Bayes' theorem\n",
    "\n",
    "Here are Bayes rule and some important formulas of lecture 2.\n",
    "\n",
    "$$\\boxed{p(y|x) = \\frac{p(x|y) p(y)}{p(x)} }$$\n",
    "\n",
    "where $p(y|x)$ is the posterior, $p(x|y)$ the likelihood, $p(x)$ the evidence and $p(y)$ the prior. Here, $p(x\\mid y)$ is a conditional probability, which gives the probability of event $x$ occurring given that $y$ is true. Marginalization over a variable e.g. $y$ (\"eliminate variable $y$\") is defined by:\n",
    "\n",
    "$$p(x) = \\sum\\limits_k p(x|y{=}k) \\; p(y{=}k)$$\n",
    "\n",
    "Where k is each possible realization of y."
   ]
  },
  {
   "cell_type": "markdown",
   "metadata": {
    "deletable": false,
    "editable": false,
    "nbgrader": {
     "cell_type": "markdown",
     "checksum": "cb31951a04df0691451ebfec6469baf5",
     "grade": false,
     "grade_id": "cell-0cf184edcccebbe4",
     "locked": true,
     "schema_version": 3,
     "solution": false,
     "task": false
    }
   },
   "source": [
    "Let us consider the following toy problem for the Naive Bayes classifier. The feature variable $X \\in [0, 1]$ is real-valued and 1-dimensional, and the response of the system $Y \\in \\{0, 1\\}$ is discrete with two classes $0$ and $1$. For the system only the prior probabilities and likelihoods (as density functions f) are known. They are given by\n",
    "\n",
    "$$p(y = 0) = p(y = 1) = \\frac{1}{2}$$\n",
    "\n",
    "$$p(x\\,|\\,y = 0) =  2 - 2x$$\n",
    "\n",
    "$$p(x\\,|\\,y = 1) = 2x$$\n",
    "\n",
    "Now, calculate the probability density of $x$, i.e., $p(x)$ by marginalization over $y$. \n",
    "\n",
    "Hint: Marginalization with discrete variables is defined by $p(x) = \\sum_y p(x|y) p(y)$"
   ]
  },
  {
   "cell_type": "code",
   "execution_count": 20,
   "metadata": {
    "deletable": false,
    "nbgrader": {
     "cell_type": "code",
     "checksum": "89e81964db7d916bcb8207d568684129",
     "grade": false,
     "grade_id": "p_of_x",
     "locked": false,
     "schema_version": 3,
     "solution": true,
     "task": false
    }
   },
   "outputs": [],
   "source": [
    "p_of_x = None\n",
    "# YOUR CODE HERE\n",
    "p_of_x = 1"
   ]
  },
  {
   "cell_type": "code",
   "execution_count": 21,
   "metadata": {
    "deletable": false,
    "editable": false,
    "nbgrader": {
     "cell_type": "code",
     "checksum": "0df2825b87747ae13f590ec7b3aa231f",
     "grade": true,
     "grade_id": "p_of_x_test",
     "locked": true,
     "points": 1,
     "schema_version": 3,
     "solution": false,
     "task": false
    }
   },
   "outputs": [],
   "source": [
    "# (1 Point)\n",
    "assert p_of_x or p_of_x == 0, 'Please assign a value to p_of_x!'\n",
    "# Additional test for p(x)"
   ]
  },
  {
   "cell_type": "markdown",
   "metadata": {
    "deletable": false,
    "editable": false,
    "nbgrader": {
     "cell_type": "markdown",
     "checksum": "09ed426a6f97a631e6c53490d23677f2",
     "grade": false,
     "grade_id": "cell-82b26320e2bff41b",
     "locked": true,
     "schema_version": 3,
     "solution": false,
     "task": false
    }
   },
   "source": [
    "Calculate the true posteriors $p^*(y|x)$ by using Bayes rule. Since $y$ is a discrete variable it is again enough to calculate the classes $\\{0,1\\}$ separatly \n",
    "\n",
    "$$p^*(y=0\\,|\\,x) = \\frac{p(x\\,|\\,y = 0)\\,p(y = 0)}{p(x)}$$\n",
    "$$p^*(y=1\\,|\\,x) = \\frac{p(x\\,|\\,y = 1)\\,p(y = 1)}{p(x)}$$\n",
    "\n",
    "The Naive Bayesian classifier would then be: \"pick the highest probability class for given $x$\". \n",
    "\n",
    "$$\\hat{f}(x) = \\underset{k}{\\text{argmax}} \\; p^*(y=k|x)$$"
   ]
  },
  {
   "cell_type": "code",
   "execution_count": 22,
   "metadata": {
    "deletable": false,
    "nbgrader": {
     "cell_type": "code",
     "checksum": "14073d52c505f09fd0f54b415d305c75",
     "grade": false,
     "grade_id": "p_y_x",
     "locked": false,
     "schema_version": 3,
     "solution": true,
     "task": false
    }
   },
   "outputs": [
    {
     "output_type": "display_data",
     "data": {
      "text/plain": "<Figure size 432x288 with 1 Axes>",
      "image/svg+xml": "<?xml version=\"1.0\" encoding=\"utf-8\" standalone=\"no\"?>\n<!DOCTYPE svg PUBLIC \"-//W3C//DTD SVG 1.1//EN\"\n  \"http://www.w3.org/Graphics/SVG/1.1/DTD/svg11.dtd\">\n<svg height=\"263.68875pt\" version=\"1.1\" viewBox=\"0 0 372.103125 263.68875\" width=\"372.103125pt\" xmlns=\"http://www.w3.org/2000/svg\" xmlns:xlink=\"http://www.w3.org/1999/xlink\">\n <metadata>\n  <rdf:RDF xmlns:cc=\"http://creativecommons.org/ns#\" xmlns:dc=\"http://purl.org/dc/elements/1.1/\" xmlns:rdf=\"http://www.w3.org/1999/02/22-rdf-syntax-ns#\">\n   <cc:Work>\n    <dc:type rdf:resource=\"http://purl.org/dc/dcmitype/StillImage\"/>\n    <dc:date>2021-05-12T17:40:20.588800</dc:date>\n    <dc:format>image/svg+xml</dc:format>\n    <dc:creator>\n     <cc:Agent>\n      <dc:title>Matplotlib v3.4.1, https://matplotlib.org/</dc:title>\n     </cc:Agent>\n    </dc:creator>\n   </cc:Work>\n  </rdf:RDF>\n </metadata>\n <defs>\n  <style type=\"text/css\">*{stroke-linecap:butt;stroke-linejoin:round;}</style>\n </defs>\n <g id=\"figure_1\">\n  <g id=\"patch_1\">\n   <path d=\"M 0 263.68875 \nL 372.103125 263.68875 \nL 372.103125 0 \nL 0 0 \nz\n\" style=\"fill:none;\"/>\n  </g>\n  <g id=\"axes_1\">\n   <g id=\"patch_2\">\n    <path d=\"M 30.103125 239.810625 \nL 364.903125 239.810625 \nL 364.903125 22.370625 \nL 30.103125 22.370625 \nz\n\" style=\"fill:#ffffff;\"/>\n   </g>\n   <g id=\"matplotlib.axis_1\">\n    <g id=\"xtick_1\">\n     <g id=\"line2d_1\">\n      <defs>\n       <path d=\"M 0 0 \nL 0 3.5 \n\" id=\"maf0524c578\" style=\"stroke:#000000;stroke-width:0.8;\"/>\n      </defs>\n      <g>\n       <use style=\"stroke:#000000;stroke-width:0.8;\" x=\"45.321307\" xlink:href=\"#maf0524c578\" y=\"239.810625\"/>\n      </g>\n     </g>\n     <g id=\"text_1\">\n      <!-- 0.0 -->\n      <g transform=\"translate(37.369744 254.409063)scale(0.1 -0.1)\">\n       <defs>\n        <path d=\"M 2034 4250 \nQ 1547 4250 1301 3770 \nQ 1056 3291 1056 2328 \nQ 1056 1369 1301 889 \nQ 1547 409 2034 409 \nQ 2525 409 2770 889 \nQ 3016 1369 3016 2328 \nQ 3016 3291 2770 3770 \nQ 2525 4250 2034 4250 \nz\nM 2034 4750 \nQ 2819 4750 3233 4129 \nQ 3647 3509 3647 2328 \nQ 3647 1150 3233 529 \nQ 2819 -91 2034 -91 \nQ 1250 -91 836 529 \nQ 422 1150 422 2328 \nQ 422 3509 836 4129 \nQ 1250 4750 2034 4750 \nz\n\" id=\"DejaVuSans-30\" transform=\"scale(0.015625)\"/>\n        <path d=\"M 684 794 \nL 1344 794 \nL 1344 0 \nL 684 0 \nL 684 794 \nz\n\" id=\"DejaVuSans-2e\" transform=\"scale(0.015625)\"/>\n       </defs>\n       <use xlink:href=\"#DejaVuSans-30\"/>\n       <use x=\"63.623047\" xlink:href=\"#DejaVuSans-2e\"/>\n       <use x=\"95.410156\" xlink:href=\"#DejaVuSans-30\"/>\n      </g>\n     </g>\n    </g>\n    <g id=\"xtick_2\">\n     <g id=\"line2d_2\">\n      <g>\n       <use style=\"stroke:#000000;stroke-width:0.8;\" x=\"106.194034\" xlink:href=\"#maf0524c578\" y=\"239.810625\"/>\n      </g>\n     </g>\n     <g id=\"text_2\">\n      <!-- 0.2 -->\n      <g transform=\"translate(98.242472 254.409063)scale(0.1 -0.1)\">\n       <defs>\n        <path d=\"M 1228 531 \nL 3431 531 \nL 3431 0 \nL 469 0 \nL 469 531 \nQ 828 903 1448 1529 \nQ 2069 2156 2228 2338 \nQ 2531 2678 2651 2914 \nQ 2772 3150 2772 3378 \nQ 2772 3750 2511 3984 \nQ 2250 4219 1831 4219 \nQ 1534 4219 1204 4116 \nQ 875 4013 500 3803 \nL 500 4441 \nQ 881 4594 1212 4672 \nQ 1544 4750 1819 4750 \nQ 2544 4750 2975 4387 \nQ 3406 4025 3406 3419 \nQ 3406 3131 3298 2873 \nQ 3191 2616 2906 2266 \nQ 2828 2175 2409 1742 \nQ 1991 1309 1228 531 \nz\n\" id=\"DejaVuSans-32\" transform=\"scale(0.015625)\"/>\n       </defs>\n       <use xlink:href=\"#DejaVuSans-30\"/>\n       <use x=\"63.623047\" xlink:href=\"#DejaVuSans-2e\"/>\n       <use x=\"95.410156\" xlink:href=\"#DejaVuSans-32\"/>\n      </g>\n     </g>\n    </g>\n    <g id=\"xtick_3\">\n     <g id=\"line2d_3\">\n      <g>\n       <use style=\"stroke:#000000;stroke-width:0.8;\" x=\"167.066761\" xlink:href=\"#maf0524c578\" y=\"239.810625\"/>\n      </g>\n     </g>\n     <g id=\"text_3\">\n      <!-- 0.4 -->\n      <g transform=\"translate(159.115199 254.409063)scale(0.1 -0.1)\">\n       <defs>\n        <path d=\"M 2419 4116 \nL 825 1625 \nL 2419 1625 \nL 2419 4116 \nz\nM 2253 4666 \nL 3047 4666 \nL 3047 1625 \nL 3713 1625 \nL 3713 1100 \nL 3047 1100 \nL 3047 0 \nL 2419 0 \nL 2419 1100 \nL 313 1100 \nL 313 1709 \nL 2253 4666 \nz\n\" id=\"DejaVuSans-34\" transform=\"scale(0.015625)\"/>\n       </defs>\n       <use xlink:href=\"#DejaVuSans-30\"/>\n       <use x=\"63.623047\" xlink:href=\"#DejaVuSans-2e\"/>\n       <use x=\"95.410156\" xlink:href=\"#DejaVuSans-34\"/>\n      </g>\n     </g>\n    </g>\n    <g id=\"xtick_4\">\n     <g id=\"line2d_4\">\n      <g>\n       <use style=\"stroke:#000000;stroke-width:0.8;\" x=\"227.939489\" xlink:href=\"#maf0524c578\" y=\"239.810625\"/>\n      </g>\n     </g>\n     <g id=\"text_4\">\n      <!-- 0.6 -->\n      <g transform=\"translate(219.987926 254.409063)scale(0.1 -0.1)\">\n       <defs>\n        <path d=\"M 2113 2584 \nQ 1688 2584 1439 2293 \nQ 1191 2003 1191 1497 \nQ 1191 994 1439 701 \nQ 1688 409 2113 409 \nQ 2538 409 2786 701 \nQ 3034 994 3034 1497 \nQ 3034 2003 2786 2293 \nQ 2538 2584 2113 2584 \nz\nM 3366 4563 \nL 3366 3988 \nQ 3128 4100 2886 4159 \nQ 2644 4219 2406 4219 \nQ 1781 4219 1451 3797 \nQ 1122 3375 1075 2522 \nQ 1259 2794 1537 2939 \nQ 1816 3084 2150 3084 \nQ 2853 3084 3261 2657 \nQ 3669 2231 3669 1497 \nQ 3669 778 3244 343 \nQ 2819 -91 2113 -91 \nQ 1303 -91 875 529 \nQ 447 1150 447 2328 \nQ 447 3434 972 4092 \nQ 1497 4750 2381 4750 \nQ 2619 4750 2861 4703 \nQ 3103 4656 3366 4563 \nz\n\" id=\"DejaVuSans-36\" transform=\"scale(0.015625)\"/>\n       </defs>\n       <use xlink:href=\"#DejaVuSans-30\"/>\n       <use x=\"63.623047\" xlink:href=\"#DejaVuSans-2e\"/>\n       <use x=\"95.410156\" xlink:href=\"#DejaVuSans-36\"/>\n      </g>\n     </g>\n    </g>\n    <g id=\"xtick_5\">\n     <g id=\"line2d_5\">\n      <g>\n       <use style=\"stroke:#000000;stroke-width:0.8;\" x=\"288.812216\" xlink:href=\"#maf0524c578\" y=\"239.810625\"/>\n      </g>\n     </g>\n     <g id=\"text_5\">\n      <!-- 0.8 -->\n      <g transform=\"translate(280.860653 254.409063)scale(0.1 -0.1)\">\n       <defs>\n        <path d=\"M 2034 2216 \nQ 1584 2216 1326 1975 \nQ 1069 1734 1069 1313 \nQ 1069 891 1326 650 \nQ 1584 409 2034 409 \nQ 2484 409 2743 651 \nQ 3003 894 3003 1313 \nQ 3003 1734 2745 1975 \nQ 2488 2216 2034 2216 \nz\nM 1403 2484 \nQ 997 2584 770 2862 \nQ 544 3141 544 3541 \nQ 544 4100 942 4425 \nQ 1341 4750 2034 4750 \nQ 2731 4750 3128 4425 \nQ 3525 4100 3525 3541 \nQ 3525 3141 3298 2862 \nQ 3072 2584 2669 2484 \nQ 3125 2378 3379 2068 \nQ 3634 1759 3634 1313 \nQ 3634 634 3220 271 \nQ 2806 -91 2034 -91 \nQ 1263 -91 848 271 \nQ 434 634 434 1313 \nQ 434 1759 690 2068 \nQ 947 2378 1403 2484 \nz\nM 1172 3481 \nQ 1172 3119 1398 2916 \nQ 1625 2713 2034 2713 \nQ 2441 2713 2670 2916 \nQ 2900 3119 2900 3481 \nQ 2900 3844 2670 4047 \nQ 2441 4250 2034 4250 \nQ 1625 4250 1398 4047 \nQ 1172 3844 1172 3481 \nz\n\" id=\"DejaVuSans-38\" transform=\"scale(0.015625)\"/>\n       </defs>\n       <use xlink:href=\"#DejaVuSans-30\"/>\n       <use x=\"63.623047\" xlink:href=\"#DejaVuSans-2e\"/>\n       <use x=\"95.410156\" xlink:href=\"#DejaVuSans-38\"/>\n      </g>\n     </g>\n    </g>\n    <g id=\"xtick_6\">\n     <g id=\"line2d_6\">\n      <g>\n       <use style=\"stroke:#000000;stroke-width:0.8;\" x=\"349.684943\" xlink:href=\"#maf0524c578\" y=\"239.810625\"/>\n      </g>\n     </g>\n     <g id=\"text_6\">\n      <!-- 1.0 -->\n      <g transform=\"translate(341.733381 254.409063)scale(0.1 -0.1)\">\n       <defs>\n        <path d=\"M 794 531 \nL 1825 531 \nL 1825 4091 \nL 703 3866 \nL 703 4441 \nL 1819 4666 \nL 2450 4666 \nL 2450 531 \nL 3481 531 \nL 3481 0 \nL 794 0 \nL 794 531 \nz\n\" id=\"DejaVuSans-31\" transform=\"scale(0.015625)\"/>\n       </defs>\n       <use xlink:href=\"#DejaVuSans-31\"/>\n       <use x=\"63.623047\" xlink:href=\"#DejaVuSans-2e\"/>\n       <use x=\"95.410156\" xlink:href=\"#DejaVuSans-30\"/>\n      </g>\n     </g>\n    </g>\n   </g>\n   <g id=\"matplotlib.axis_2\">\n    <g id=\"ytick_1\">\n     <g id=\"line2d_7\">\n      <defs>\n       <path d=\"M 0 0 \nL -3.5 0 \n\" id=\"m29844a4037\" style=\"stroke:#000000;stroke-width:0.8;\"/>\n      </defs>\n      <g>\n       <use style=\"stroke:#000000;stroke-width:0.8;\" x=\"30.103125\" xlink:href=\"#m29844a4037\" y=\"229.926989\"/>\n      </g>\n     </g>\n     <g id=\"text_7\">\n      <!-- 0.0 -->\n      <g transform=\"translate(7.2 233.726207)scale(0.1 -0.1)\">\n       <use xlink:href=\"#DejaVuSans-30\"/>\n       <use x=\"63.623047\" xlink:href=\"#DejaVuSans-2e\"/>\n       <use x=\"95.410156\" xlink:href=\"#DejaVuSans-30\"/>\n      </g>\n     </g>\n    </g>\n    <g id=\"ytick_2\">\n     <g id=\"line2d_8\">\n      <g>\n       <use style=\"stroke:#000000;stroke-width:0.8;\" x=\"30.103125\" xlink:href=\"#m29844a4037\" y=\"190.392443\"/>\n      </g>\n     </g>\n     <g id=\"text_8\">\n      <!-- 0.2 -->\n      <g transform=\"translate(7.2 194.191662)scale(0.1 -0.1)\">\n       <use xlink:href=\"#DejaVuSans-30\"/>\n       <use x=\"63.623047\" xlink:href=\"#DejaVuSans-2e\"/>\n       <use x=\"95.410156\" xlink:href=\"#DejaVuSans-32\"/>\n      </g>\n     </g>\n    </g>\n    <g id=\"ytick_3\">\n     <g id=\"line2d_9\">\n      <g>\n       <use style=\"stroke:#000000;stroke-width:0.8;\" x=\"30.103125\" xlink:href=\"#m29844a4037\" y=\"150.857898\"/>\n      </g>\n     </g>\n     <g id=\"text_9\">\n      <!-- 0.4 -->\n      <g transform=\"translate(7.2 154.657116)scale(0.1 -0.1)\">\n       <use xlink:href=\"#DejaVuSans-30\"/>\n       <use x=\"63.623047\" xlink:href=\"#DejaVuSans-2e\"/>\n       <use x=\"95.410156\" xlink:href=\"#DejaVuSans-34\"/>\n      </g>\n     </g>\n    </g>\n    <g id=\"ytick_4\">\n     <g id=\"line2d_10\">\n      <g>\n       <use style=\"stroke:#000000;stroke-width:0.8;\" x=\"30.103125\" xlink:href=\"#m29844a4037\" y=\"111.323352\"/>\n      </g>\n     </g>\n     <g id=\"text_10\">\n      <!-- 0.6 -->\n      <g transform=\"translate(7.2 115.122571)scale(0.1 -0.1)\">\n       <use xlink:href=\"#DejaVuSans-30\"/>\n       <use x=\"63.623047\" xlink:href=\"#DejaVuSans-2e\"/>\n       <use x=\"95.410156\" xlink:href=\"#DejaVuSans-36\"/>\n      </g>\n     </g>\n    </g>\n    <g id=\"ytick_5\">\n     <g id=\"line2d_11\">\n      <g>\n       <use style=\"stroke:#000000;stroke-width:0.8;\" x=\"30.103125\" xlink:href=\"#m29844a4037\" y=\"71.788807\"/>\n      </g>\n     </g>\n     <g id=\"text_11\">\n      <!-- 0.8 -->\n      <g transform=\"translate(7.2 75.588026)scale(0.1 -0.1)\">\n       <use xlink:href=\"#DejaVuSans-30\"/>\n       <use x=\"63.623047\" xlink:href=\"#DejaVuSans-2e\"/>\n       <use x=\"95.410156\" xlink:href=\"#DejaVuSans-38\"/>\n      </g>\n     </g>\n    </g>\n    <g id=\"ytick_6\">\n     <g id=\"line2d_12\">\n      <g>\n       <use style=\"stroke:#000000;stroke-width:0.8;\" x=\"30.103125\" xlink:href=\"#m29844a4037\" y=\"32.254261\"/>\n      </g>\n     </g>\n     <g id=\"text_12\">\n      <!-- 1.0 -->\n      <g transform=\"translate(7.2 36.05348)scale(0.1 -0.1)\">\n       <use xlink:href=\"#DejaVuSans-31\"/>\n       <use x=\"63.623047\" xlink:href=\"#DejaVuSans-2e\"/>\n       <use x=\"95.410156\" xlink:href=\"#DejaVuSans-30\"/>\n      </g>\n     </g>\n    </g>\n   </g>\n   <g id=\"line2d_13\">\n    <path clip-path=\"url(#pd45ff12533)\" d=\"M 45.321307 32.254261 \nL 121.412216 81.672443 \nL 197.503125 131.090625 \nL 273.594034 180.508807 \nL 349.684943 229.926989 \n\" style=\"fill:none;stroke:#1f77b4;stroke-linecap:square;stroke-width:1.5;\"/>\n   </g>\n   <g id=\"line2d_14\">\n    <path clip-path=\"url(#pd45ff12533)\" d=\"M 45.321307 229.926989 \nL 121.412216 180.508807 \nL 197.503125 131.090625 \nL 273.594034 81.672443 \nL 349.684943 32.254261 \n\" style=\"fill:none;stroke:#ff7f0e;stroke-linecap:square;stroke-width:1.5;\"/>\n   </g>\n   <g id=\"patch_3\">\n    <path d=\"M 30.103125 239.810625 \nL 30.103125 22.370625 \n\" style=\"fill:none;stroke:#000000;stroke-linecap:square;stroke-linejoin:miter;stroke-width:0.8;\"/>\n   </g>\n   <g id=\"patch_4\">\n    <path d=\"M 364.903125 239.810625 \nL 364.903125 22.370625 \n\" style=\"fill:none;stroke:#000000;stroke-linecap:square;stroke-linejoin:miter;stroke-width:0.8;\"/>\n   </g>\n   <g id=\"patch_5\">\n    <path d=\"M 30.103125 239.810625 \nL 364.903125 239.810625 \n\" style=\"fill:none;stroke:#000000;stroke-linecap:square;stroke-linejoin:miter;stroke-width:0.8;\"/>\n   </g>\n   <g id=\"patch_6\">\n    <path d=\"M 30.103125 22.370625 \nL 364.903125 22.370625 \n\" style=\"fill:none;stroke:#000000;stroke-linecap:square;stroke-linejoin:miter;stroke-width:0.8;\"/>\n   </g>\n   <g id=\"text_13\">\n    <!-- p(y=k|x) -->\n    <g transform=\"translate(171.38625 16.370625)scale(0.12 -0.12)\">\n     <defs>\n      <path d=\"M 1159 525 \nL 1159 -1331 \nL 581 -1331 \nL 581 3500 \nL 1159 3500 \nL 1159 2969 \nQ 1341 3281 1617 3432 \nQ 1894 3584 2278 3584 \nQ 2916 3584 3314 3078 \nQ 3713 2572 3713 1747 \nQ 3713 922 3314 415 \nQ 2916 -91 2278 -91 \nQ 1894 -91 1617 61 \nQ 1341 213 1159 525 \nz\nM 3116 1747 \nQ 3116 2381 2855 2742 \nQ 2594 3103 2138 3103 \nQ 1681 3103 1420 2742 \nQ 1159 2381 1159 1747 \nQ 1159 1113 1420 752 \nQ 1681 391 2138 391 \nQ 2594 391 2855 752 \nQ 3116 1113 3116 1747 \nz\n\" id=\"DejaVuSans-70\" transform=\"scale(0.015625)\"/>\n      <path d=\"M 1984 4856 \nQ 1566 4138 1362 3434 \nQ 1159 2731 1159 2009 \nQ 1159 1288 1364 580 \nQ 1569 -128 1984 -844 \nL 1484 -844 \nQ 1016 -109 783 600 \nQ 550 1309 550 2009 \nQ 550 2706 781 3412 \nQ 1013 4119 1484 4856 \nL 1984 4856 \nz\n\" id=\"DejaVuSans-28\" transform=\"scale(0.015625)\"/>\n      <path d=\"M 2059 -325 \nQ 1816 -950 1584 -1140 \nQ 1353 -1331 966 -1331 \nL 506 -1331 \nL 506 -850 \nL 844 -850 \nQ 1081 -850 1212 -737 \nQ 1344 -625 1503 -206 \nL 1606 56 \nL 191 3500 \nL 800 3500 \nL 1894 763 \nL 2988 3500 \nL 3597 3500 \nL 2059 -325 \nz\n\" id=\"DejaVuSans-79\" transform=\"scale(0.015625)\"/>\n      <path d=\"M 678 2906 \nL 4684 2906 \nL 4684 2381 \nL 678 2381 \nL 678 2906 \nz\nM 678 1631 \nL 4684 1631 \nL 4684 1100 \nL 678 1100 \nL 678 1631 \nz\n\" id=\"DejaVuSans-3d\" transform=\"scale(0.015625)\"/>\n      <path d=\"M 581 4863 \nL 1159 4863 \nL 1159 1991 \nL 2875 3500 \nL 3609 3500 \nL 1753 1863 \nL 3688 0 \nL 2938 0 \nL 1159 1709 \nL 1159 0 \nL 581 0 \nL 581 4863 \nz\n\" id=\"DejaVuSans-6b\" transform=\"scale(0.015625)\"/>\n      <path d=\"M 1344 4891 \nL 1344 -1509 \nL 813 -1509 \nL 813 4891 \nL 1344 4891 \nz\n\" id=\"DejaVuSans-7c\" transform=\"scale(0.015625)\"/>\n      <path d=\"M 3513 3500 \nL 2247 1797 \nL 3578 0 \nL 2900 0 \nL 1881 1375 \nL 863 0 \nL 184 0 \nL 1544 1831 \nL 300 3500 \nL 978 3500 \nL 1906 2253 \nL 2834 3500 \nL 3513 3500 \nz\n\" id=\"DejaVuSans-78\" transform=\"scale(0.015625)\"/>\n      <path d=\"M 513 4856 \nL 1013 4856 \nQ 1481 4119 1714 3412 \nQ 1947 2706 1947 2009 \nQ 1947 1309 1714 600 \nQ 1481 -109 1013 -844 \nL 513 -844 \nQ 928 -128 1133 580 \nQ 1338 1288 1338 2009 \nQ 1338 2731 1133 3434 \nQ 928 4138 513 4856 \nz\n\" id=\"DejaVuSans-29\" transform=\"scale(0.015625)\"/>\n     </defs>\n     <use xlink:href=\"#DejaVuSans-70\"/>\n     <use x=\"63.476562\" xlink:href=\"#DejaVuSans-28\"/>\n     <use x=\"102.490234\" xlink:href=\"#DejaVuSans-79\"/>\n     <use x=\"161.669922\" xlink:href=\"#DejaVuSans-3d\"/>\n     <use x=\"245.458984\" xlink:href=\"#DejaVuSans-6b\"/>\n     <use x=\"303.369141\" xlink:href=\"#DejaVuSans-7c\"/>\n     <use x=\"337.060547\" xlink:href=\"#DejaVuSans-78\"/>\n     <use x=\"396.240234\" xlink:href=\"#DejaVuSans-29\"/>\n    </g>\n   </g>\n   <g id=\"legend_1\">\n    <g id=\"patch_7\">\n     <path d=\"M 305.370313 147.26875 \nL 357.903125 147.26875 \nQ 359.903125 147.26875 359.903125 145.26875 \nL 359.903125 116.9125 \nQ 359.903125 114.9125 357.903125 114.9125 \nL 305.370313 114.9125 \nQ 303.370313 114.9125 303.370313 116.9125 \nL 303.370313 145.26875 \nQ 303.370313 147.26875 305.370313 147.26875 \nz\n\" style=\"fill:#ffffff;opacity:0.8;stroke:#cccccc;stroke-linejoin:miter;\"/>\n    </g>\n    <g id=\"line2d_15\">\n     <path d=\"M 307.370313 123.010938 \nL 327.370313 123.010938 \n\" style=\"fill:none;stroke:#1f77b4;stroke-linecap:square;stroke-width:1.5;\"/>\n    </g>\n    <g id=\"line2d_16\"/>\n    <g id=\"text_14\">\n     <!-- k=0 -->\n     <g transform=\"translate(335.370313 126.510938)scale(0.1 -0.1)\">\n      <use xlink:href=\"#DejaVuSans-6b\"/>\n      <use x=\"57.910156\" xlink:href=\"#DejaVuSans-3d\"/>\n      <use x=\"141.699219\" xlink:href=\"#DejaVuSans-30\"/>\n     </g>\n    </g>\n    <g id=\"line2d_17\">\n     <path d=\"M 307.370313 137.689063 \nL 327.370313 137.689063 \n\" style=\"fill:none;stroke:#ff7f0e;stroke-linecap:square;stroke-width:1.5;\"/>\n    </g>\n    <g id=\"line2d_18\"/>\n    <g id=\"text_15\">\n     <!-- k=1 -->\n     <g transform=\"translate(335.370313 141.189063)scale(0.1 -0.1)\">\n      <use xlink:href=\"#DejaVuSans-6b\"/>\n      <use x=\"57.910156\" xlink:href=\"#DejaVuSans-3d\"/>\n      <use x=\"141.699219\" xlink:href=\"#DejaVuSans-31\"/>\n     </g>\n    </g>\n   </g>\n  </g>\n </g>\n <defs>\n  <clipPath id=\"pd45ff12533\">\n   <rect height=\"217.44\" width=\"334.8\" x=\"30.103125\" y=\"22.370625\"/>\n  </clipPath>\n </defs>\n</svg>\n",
      "image/png": "[encoded data removed]"
     },
     "metadata": {
      "needs_background": "light"
     }
    }
   ],
   "source": [
    "import matplotlib.pyplot as plt\n",
    "import numpy as np\n",
    "# Give your solution as a function and plot it\n",
    "def prob_y_x(y,x): # p(y|x)\n",
    "    prob_density = None\n",
    "    # YOUR CODE HERE\n",
    "    if y == 0: prob_density = 1 - x\n",
    "    elif y == 1: prob_density = x\n",
    "    else: raise Exception(\"disallowed value for y given\")\n",
    "    return prob_density\n",
    "# plot the probability y|x (ordinate) against x (abscissa) for y=0 and y=1\n",
    "# YOUR CODE HERE\n",
    "x = np.linspace(0, 1, num=5)\n",
    "\n",
    "for k in range(0, 2):\n",
    "    p_of_x = [prob_y_x(k, x_i) for x_i in x]\n",
    "    plt.plot(x, p_of_x, label=f\"k={k}\")\n",
    "\n",
    "plt.legend()\n",
    "plt.title(\"p(y=k|x)\")\n",
    "plt.show()"
   ]
  },
  {
   "cell_type": "code",
   "execution_count": 23,
   "metadata": {
    "deletable": false,
    "editable": false,
    "nbgrader": {
     "cell_type": "code",
     "checksum": "e2537edb889abc790c769565382a2330",
     "grade": true,
     "grade_id": "p_y_x_test",
     "locked": true,
     "points": 2,
     "schema_version": 3,
     "solution": false,
     "task": false
    }
   },
   "outputs": [],
   "source": [
    "# (2 Points)\n",
    "assert np.abs(prob_y_x(0,0.0) - 1.0 ) < 0.001\n",
    "# Additional test for p (y|x) with y=0 or y=1"
   ]
  },
  {
   "cell_type": "markdown",
   "metadata": {
    "deletable": false,
    "editable": false,
    "nbgrader": {
     "cell_type": "markdown",
     "checksum": "a4614597a6084a72c5c290881d7857ce",
     "grade": false,
     "grade_id": "cell-ec69f2b1fdb00722",
     "locked": true,
     "schema_version": 3,
     "solution": false,
     "task": false
    }
   },
   "source": [
    "### 5.1 Bayes error rate\n",
    "\n",
    "The Bayes error rate can be described by the probability of failure of the Bayes classifer $\\mathbb{E}[ p(\\hat{y} {\\ne} y^* |x)]$, where $\\mathbb{E}$ denotes the expectation value, defined by $\\mathbb{E}[X] = \\int x \\; p(x) \\; dx$. The probability of error can also be defined by $p(\\text{error}) = 1- p(\\text{success}) = 1 - \\mathbb{E}_{x\\sim p(x)}[p(\\hat{y}_i=y_i^*|x)]$, which gives:\n",
    "\n",
    "$$\\mathbb{E}[p(\\hat{y} {\\ne} y^* |x)] = \\int (1- \\underset{k}{\\text{argmax}}\\; p^*(y{=}k|x)) \\;  p(x) \\, dx$$\n",
    "\n",
    "Determine the error rate for the toy problem, i.e. the best achievable error for Bayes classifer, using the above formular. In this case this is equal to a threshold classifier that picks either $y \\in \\{0,1\\}$ depending whether $x$ is smaller or bigger than a threshold $x_t = 1/2$. \n",
    "\n",
    "Bonus: If you want you can prove that $x_t = 1/2$ is the best choice of a threshold (not graded)."
   ]
  },
  {
   "cell_type": "code",
   "execution_count": 24,
   "metadata": {
    "deletable": false,
    "nbgrader": {
     "cell_type": "code",
     "checksum": "42782a339363188c0fc27bb9cb63495b",
     "grade": false,
     "grade_id": "error_bayes",
     "locked": false,
     "schema_version": 3,
     "solution": true,
     "task": false
    }
   },
   "outputs": [],
   "source": [
    "error_bayes = None # error rate not in % but [0,1]\n",
    "# YOUR CODE HERE\n",
    "error_bayes = 1/4"
   ]
  },
  {
   "cell_type": "code",
   "execution_count": 25,
   "metadata": {
    "deletable": false,
    "editable": false,
    "nbgrader": {
     "cell_type": "code",
     "checksum": "2753f7c47b4661b2f4174dab4a73bebb",
     "grade": true,
     "grade_id": "error_bayes_test",
     "locked": true,
     "points": 2,
     "schema_version": 3,
     "solution": false,
     "task": false
    }
   },
   "outputs": [],
   "source": [
    "# (2 Points)\n",
    "# The derivation is not graded, only the answer yields 2 Points\n",
    "assert isinstance(error_bayes, float) "
   ]
  },
  {
   "cell_type": "markdown",
   "metadata": {
    "deletable": false,
    "editable": false,
    "nbgrader": {
     "cell_type": "markdown",
     "checksum": "e087f139e8cfdda16d89869c4f4551af",
     "grade": false,
     "grade_id": "cell-8346849135e441e4",
     "locked": true,
     "schema_version": 3,
     "solution": false,
     "task": false
    }
   },
   "source": [
    "### 5.2 Nearest Neighbour error rate\n",
    "\n",
    "The nearest-neighbor classiffier's asymptotic local error ($N \\to \\infty$) is given by the Gini impurity for 1-NN and based on Bayes classification (without proof):\n",
    "\n",
    "$$ p_\\infty(\\text{error}|x) = 1-\\sum_k p(y=k|x)^2$$\n",
    "\n",
    "And for the asymptotic overall error\n",
    "\n",
    "$$ P_\\infty(\\text{error}) = \\int p_{\\infty}(\\text{error}\\,|\\,x)\\,p(x)\\,dx =\\int \\left(1-\\sum_k p(y=k|x)^2 \\right) \\,p(x)\\,dx$$\n",
    "\n",
    "Determine the error rate for the toy problem, i.e. the best achievable error for Nearest Neighbour classifer, using the above formular."
   ]
  },
  {
   "cell_type": "code",
   "execution_count": 26,
   "metadata": {
    "deletable": false,
    "nbgrader": {
     "cell_type": "code",
     "checksum": "abef9b491ad40f1880b2bb58de1723ac",
     "grade": false,
     "grade_id": "error_NN",
     "locked": false,
     "schema_version": 3,
     "solution": true,
     "task": false
    }
   },
   "outputs": [],
   "source": [
    "error_NN = None  # error rate not in % but [0,1]\n",
    "# YOUR CODE HERE\n",
    "error_NN = 1/3"
   ]
  },
  {
   "cell_type": "code",
   "execution_count": 27,
   "metadata": {
    "deletable": false,
    "editable": false,
    "nbgrader": {
     "cell_type": "code",
     "checksum": "6492cd83720a174d1e8b953fc1dbfb47",
     "grade": true,
     "grade_id": "error_NN_test",
     "locked": true,
     "points": 2,
     "schema_version": 3,
     "solution": false,
     "task": false
    }
   },
   "outputs": [],
   "source": [
    "# (2 Points)\n",
    "# The derivation is not graded, only the answer yields 2 Points\n",
    "assert isinstance(error_NN, float)"
   ]
  },
  {
   "cell_type": "markdown",
   "metadata": {
    "deletable": false,
    "editable": false,
    "nbgrader": {
     "cell_type": "markdown",
     "checksum": "2fd024f6b0f64b0a40d4697f1844c0c0",
     "grade": false,
     "grade_id": "cell-7d6e44ab864416be",
     "locked": true,
     "schema_version": 3,
     "solution": false,
     "task": false
    }
   },
   "source": [
    "### 5.3 Error rate for constant classifier\n",
    "\n",
    "At last, determine the error rate for our toy problem for a classifier that knows nothing about $x$, or more specifically the randomly guesses $y$ or always picks for example $y=1$ ."
   ]
  },
  {
   "cell_type": "code",
   "execution_count": 28,
   "metadata": {
    "deletable": false,
    "nbgrader": {
     "cell_type": "code",
     "checksum": "5f4deead195b053be30ac654afb0ce56",
     "grade": false,
     "grade_id": "error_guess",
     "locked": false,
     "schema_version": 3,
     "solution": true,
     "task": false
    }
   },
   "outputs": [],
   "source": [
    "error_guess = None # error rate not in % but [0,1]\n",
    "# YOUR CODE HERE\n",
    "error_guess = 1/2"
   ]
  },
  {
   "cell_type": "code",
   "execution_count": 29,
   "metadata": {
    "deletable": false,
    "editable": false,
    "nbgrader": {
     "cell_type": "code",
     "checksum": "0d390f0d6e69a7e238242116c93dc713",
     "grade": true,
     "grade_id": "error_guess_test",
     "locked": true,
     "points": 1,
     "schema_version": 3,
     "solution": false,
     "task": false
    }
   },
   "outputs": [],
   "source": [
    "# (1 Point)\n",
    "# The derivation is not graded, only the answer yields 1 Point\n",
    "assert isinstance(error_guess, float)"
   ]
  },
  {
   "cell_type": "markdown",
   "metadata": {
    "deletable": false,
    "editable": false,
    "nbgrader": {
     "cell_type": "markdown",
     "checksum": "b321f9d362d1c5b883ae7c3c027d5bdf",
     "grade": false,
     "grade_id": "cell-a5b96c7089da209b",
     "locked": true,
     "schema_version": 3,
     "solution": false,
     "task": false
    }
   },
   "source": [
    "# 5.4 Monte-Carlo\n",
    "\n",
    "To test the above theoretically derived error rates, we can use a random number generator to produce data. Specifically, one first samples an instance label $Y$ according to the prior probabilities, and then uses the\n",
    "corresponding likelihood to sample the feature $X$. If no predefined random generator for the desired\n",
    "likelihood is available (as is the case here), uniformly distributed samples from a standard random\n",
    "number generator can be transformed to the desired distribution by means of \"inverse transform\n",
    "sampling\" (see https://en.wikipedia.org/wiki/Inverse_transform_sampling). You do not have to do this here (we give the solution below), however, you are encouraged to read about it."
   ]
  },
  {
   "cell_type": "code",
   "execution_count": 30,
   "metadata": {
    "deletable": false,
    "editable": false,
    "nbgrader": {
     "cell_type": "code",
     "checksum": "6e712885d5ed721d6bb845159a69a92b",
     "grade": false,
     "grade_id": "cell-efb5de8be5985bf0",
     "locked": true,
     "schema_version": 3,
     "solution": false,
     "task": false
    }
   },
   "outputs": [
    {
     "output_type": "display_data",
     "data": {
      "text/plain": "<Figure size 720x216 with 3 Axes>",
      "image/svg+xml": "<?xml version=\"1.0\" encoding=\"utf-8\" standalone=\"no\"?>\n<!DOCTYPE svg PUBLIC \"-//W3C//DTD SVG 1.1//EN\"\n  \"http://www.w3.org/Graphics/SVG/1.1/DTD/svg11.dtd\">\n<svg height=\"205.598125pt\" version=\"1.1\" viewBox=\"0 0 709.213018 205.598125\" width=\"709.213018pt\" xmlns=\"http://www.w3.org/2000/svg\" xmlns:xlink=\"http://www.w3.org/1999/xlink\">\n <metadata>\n  <rdf:RDF xmlns:cc=\"http://creativecommons.org/ns#\" xmlns:dc=\"http://purl.org/dc/elements/1.1/\" xmlns:rdf=\"http://www.w3.org/1999/02/22-rdf-syntax-ns#\">\n   <cc:Work>\n    <dc:type rdf:resource=\"http://purl.org/dc/dcmitype/StillImage\"/>\n    <dc:date>2021-05-12T17:40:21.887735</dc:date>\n    <dc:format>image/svg+xml</dc:format>\n    <dc:creator>\n     <cc:Agent>\n      <dc:title>Matplotlib v3.4.1, https://matplotlib.org/</dc:title>\n     </cc:Agent>\n    </dc:creator>\n   </cc:Work>\n  </rdf:RDF>\n </metadata>\n <defs>\n  <style type=\"text/css\">*{stroke-linecap:butt;stroke-linejoin:round;}</style>\n </defs>\n <g id=\"figure_1\">\n  <g id=\"patch_1\">\n   <path d=\"M 0 205.598125 \nL 709.213018 205.598125 \nL 709.213018 0 \nL 0 0 \nz\n\" style=\"fill:none;\"/>\n  </g>\n  <g id=\"axes_1\">\n   <g id=\"patch_2\">\n    <path d=\"M 32.715625 181.72 \nL 218.879685 181.72 \nL 218.879685 22.32 \nL 32.715625 22.32 \nz\n\" style=\"fill:#ffffff;\"/>\n   </g>\n   <g id=\"patch_3\">\n    <path clip-path=\"url(#p87f3e58ccc)\" d=\"M 51.332031 181.72 \nL 107.181249 181.72 \nL 107.181249 29.910476 \nL 51.332031 29.910476 \nz\n\" style=\"fill:#1f77b4;\"/>\n   </g>\n   <g id=\"patch_4\">\n    <path clip-path=\"url(#p87f3e58ccc)\" d=\"M 144.414061 181.72 \nL 200.263279 181.72 \nL 200.263279 30.238031 \nL 144.414061 30.238031 \nz\n\" style=\"fill:#1f77b4;\"/>\n   </g>\n   <g id=\"matplotlib.axis_1\">\n    <g id=\"xtick_1\">\n     <g id=\"line2d_1\">\n      <defs>\n       <path d=\"M 0 0 \nL 0 3.5 \n\" id=\"m5d9fc164c3\" style=\"stroke:#000000;stroke-width:0.8;\"/>\n      </defs>\n      <g>\n       <use style=\"stroke:#000000;stroke-width:0.8;\" x=\"79.25664\" xlink:href=\"#m5d9fc164c3\" y=\"181.72\"/>\n      </g>\n     </g>\n     <g id=\"text_1\">\n      <!-- 0 -->\n      <g transform=\"translate(76.07539 196.318437)scale(0.1 -0.1)\">\n       <defs>\n        <path d=\"M 2034 4250 \nQ 1547 4250 1301 3770 \nQ 1056 3291 1056 2328 \nQ 1056 1369 1301 889 \nQ 1547 409 2034 409 \nQ 2525 409 2770 889 \nQ 3016 1369 3016 2328 \nQ 3016 3291 2770 3770 \nQ 2525 4250 2034 4250 \nz\nM 2034 4750 \nQ 2819 4750 3233 4129 \nQ 3647 3509 3647 2328 \nQ 3647 1150 3233 529 \nQ 2819 -91 2034 -91 \nQ 1250 -91 836 529 \nQ 422 1150 422 2328 \nQ 422 3509 836 4129 \nQ 1250 4750 2034 4750 \nz\n\" id=\"DejaVuSans-30\" transform=\"scale(0.015625)\"/>\n       </defs>\n       <use xlink:href=\"#DejaVuSans-30\"/>\n      </g>\n     </g>\n    </g>\n    <g id=\"xtick_2\">\n     <g id=\"line2d_2\">\n      <g>\n       <use style=\"stroke:#000000;stroke-width:0.8;\" x=\"172.33867\" xlink:href=\"#m5d9fc164c3\" y=\"181.72\"/>\n      </g>\n     </g>\n     <g id=\"text_2\">\n      <!-- 1 -->\n      <g transform=\"translate(169.15742 196.318437)scale(0.1 -0.1)\">\n       <defs>\n        <path d=\"M 794 531 \nL 1825 531 \nL 1825 4091 \nL 703 3866 \nL 703 4441 \nL 1819 4666 \nL 2450 4666 \nL 2450 531 \nL 3481 531 \nL 3481 0 \nL 794 0 \nL 794 531 \nz\n\" id=\"DejaVuSans-31\" transform=\"scale(0.015625)\"/>\n       </defs>\n       <use xlink:href=\"#DejaVuSans-31\"/>\n      </g>\n     </g>\n    </g>\n   </g>\n   <g id=\"matplotlib.axis_2\">\n    <g id=\"ytick_1\">\n     <g id=\"line2d_3\">\n      <defs>\n       <path d=\"M 0 0 \nL -3.5 0 \n\" id=\"m4c9e9a982f\" style=\"stroke:#000000;stroke-width:0.8;\"/>\n      </defs>\n      <g>\n       <use style=\"stroke:#000000;stroke-width:0.8;\" x=\"32.715625\" xlink:href=\"#m4c9e9a982f\" y=\"181.72\"/>\n      </g>\n     </g>\n     <g id=\"text_3\">\n      <!-- 0 -->\n      <g transform=\"translate(19.353125 185.519219)scale(0.1 -0.1)\">\n       <use xlink:href=\"#DejaVuSans-30\"/>\n      </g>\n     </g>\n    </g>\n    <g id=\"ytick_2\">\n     <g id=\"line2d_4\">\n      <g>\n       <use style=\"stroke:#000000;stroke-width:0.8;\" x=\"32.715625\" xlink:href=\"#m4c9e9a982f\" y=\"105.897127\"/>\n      </g>\n     </g>\n     <g id=\"text_4\">\n      <!-- 25k -->\n      <g transform=\"translate(7.2 109.696346)scale(0.1 -0.1)\">\n       <defs>\n        <path d=\"M 1228 531 \nL 3431 531 \nL 3431 0 \nL 469 0 \nL 469 531 \nQ 828 903 1448 1529 \nQ 2069 2156 2228 2338 \nQ 2531 2678 2651 2914 \nQ 2772 3150 2772 3378 \nQ 2772 3750 2511 3984 \nQ 2250 4219 1831 4219 \nQ 1534 4219 1204 4116 \nQ 875 4013 500 3803 \nL 500 4441 \nQ 881 4594 1212 4672 \nQ 1544 4750 1819 4750 \nQ 2544 4750 2975 4387 \nQ 3406 4025 3406 3419 \nQ 3406 3131 3298 2873 \nQ 3191 2616 2906 2266 \nQ 2828 2175 2409 1742 \nQ 1991 1309 1228 531 \nz\n\" id=\"DejaVuSans-32\" transform=\"scale(0.015625)\"/>\n        <path d=\"M 691 4666 \nL 3169 4666 \nL 3169 4134 \nL 1269 4134 \nL 1269 2991 \nQ 1406 3038 1543 3061 \nQ 1681 3084 1819 3084 \nQ 2600 3084 3056 2656 \nQ 3513 2228 3513 1497 \nQ 3513 744 3044 326 \nQ 2575 -91 1722 -91 \nQ 1428 -91 1123 -41 \nQ 819 9 494 109 \nL 494 744 \nQ 775 591 1075 516 \nQ 1375 441 1709 441 \nQ 2250 441 2565 725 \nQ 2881 1009 2881 1497 \nQ 2881 1984 2565 2268 \nQ 2250 2553 1709 2553 \nQ 1456 2553 1204 2497 \nQ 953 2441 691 2322 \nL 691 4666 \nz\n\" id=\"DejaVuSans-35\" transform=\"scale(0.015625)\"/>\n        <path d=\"M 581 4863 \nL 1159 4863 \nL 1159 1991 \nL 2875 3500 \nL 3609 3500 \nL 1753 1863 \nL 3688 0 \nL 2938 0 \nL 1159 1709 \nL 1159 0 \nL 581 0 \nL 581 4863 \nz\n\" id=\"DejaVuSans-6b\" transform=\"scale(0.015625)\"/>\n       </defs>\n       <use xlink:href=\"#DejaVuSans-32\"/>\n       <use x=\"63.623047\" xlink:href=\"#DejaVuSans-35\"/>\n       <use x=\"127.246094\" xlink:href=\"#DejaVuSans-6b\"/>\n      </g>\n     </g>\n    </g>\n    <g id=\"ytick_3\">\n     <g id=\"line2d_5\">\n      <g>\n       <use style=\"stroke:#000000;stroke-width:0.8;\" x=\"32.715625\" xlink:href=\"#m4c9e9a982f\" y=\"30.074254\"/>\n      </g>\n     </g>\n     <g id=\"text_5\">\n      <!-- 50k -->\n      <g transform=\"translate(7.2 33.873472)scale(0.1 -0.1)\">\n       <use xlink:href=\"#DejaVuSans-35\"/>\n       <use x=\"63.623047\" xlink:href=\"#DejaVuSans-30\"/>\n       <use x=\"127.246094\" xlink:href=\"#DejaVuSans-6b\"/>\n      </g>\n     </g>\n    </g>\n   </g>\n   <g id=\"patch_5\">\n    <path d=\"M 32.715625 181.72 \nL 32.715625 22.32 \n\" style=\"fill:none;stroke:#000000;stroke-linecap:square;stroke-linejoin:miter;stroke-width:0.8;\"/>\n   </g>\n   <g id=\"patch_6\">\n    <path d=\"M 218.879685 181.72 \nL 218.879685 22.32 \n\" style=\"fill:none;stroke:#000000;stroke-linecap:square;stroke-linejoin:miter;stroke-width:0.8;\"/>\n   </g>\n   <g id=\"patch_7\">\n    <path d=\"M 32.715625 181.72 \nL 218.879685 181.72 \n\" style=\"fill:none;stroke:#000000;stroke-linecap:square;stroke-linejoin:miter;stroke-width:0.8;\"/>\n   </g>\n   <g id=\"patch_8\">\n    <path d=\"M 32.715625 22.32 \nL 218.879685 22.32 \n\" style=\"fill:none;stroke:#000000;stroke-linecap:square;stroke-linejoin:miter;stroke-width:0.8;\"/>\n   </g>\n   <g id=\"text_6\">\n    <!-- prior for class $Y$ -->\n    <g transform=\"translate(79.177655 16.32)scale(0.12 -0.12)\">\n     <defs>\n      <path d=\"M 1159 525 \nL 1159 -1331 \nL 581 -1331 \nL 581 3500 \nL 1159 3500 \nL 1159 2969 \nQ 1341 3281 1617 3432 \nQ 1894 3584 2278 3584 \nQ 2916 3584 3314 3078 \nQ 3713 2572 3713 1747 \nQ 3713 922 3314 415 \nQ 2916 -91 2278 -91 \nQ 1894 -91 1617 61 \nQ 1341 213 1159 525 \nz\nM 3116 1747 \nQ 3116 2381 2855 2742 \nQ 2594 3103 2138 3103 \nQ 1681 3103 1420 2742 \nQ 1159 2381 1159 1747 \nQ 1159 1113 1420 752 \nQ 1681 391 2138 391 \nQ 2594 391 2855 752 \nQ 3116 1113 3116 1747 \nz\n\" id=\"DejaVuSans-70\" transform=\"scale(0.015625)\"/>\n      <path d=\"M 2631 2963 \nQ 2534 3019 2420 3045 \nQ 2306 3072 2169 3072 \nQ 1681 3072 1420 2755 \nQ 1159 2438 1159 1844 \nL 1159 0 \nL 581 0 \nL 581 3500 \nL 1159 3500 \nL 1159 2956 \nQ 1341 3275 1631 3429 \nQ 1922 3584 2338 3584 \nQ 2397 3584 2469 3576 \nQ 2541 3569 2628 3553 \nL 2631 2963 \nz\n\" id=\"DejaVuSans-72\" transform=\"scale(0.015625)\"/>\n      <path d=\"M 603 3500 \nL 1178 3500 \nL 1178 0 \nL 603 0 \nL 603 3500 \nz\nM 603 4863 \nL 1178 4863 \nL 1178 4134 \nL 603 4134 \nL 603 4863 \nz\n\" id=\"DejaVuSans-69\" transform=\"scale(0.015625)\"/>\n      <path d=\"M 1959 3097 \nQ 1497 3097 1228 2736 \nQ 959 2375 959 1747 \nQ 959 1119 1226 758 \nQ 1494 397 1959 397 \nQ 2419 397 2687 759 \nQ 2956 1122 2956 1747 \nQ 2956 2369 2687 2733 \nQ 2419 3097 1959 3097 \nz\nM 1959 3584 \nQ 2709 3584 3137 3096 \nQ 3566 2609 3566 1747 \nQ 3566 888 3137 398 \nQ 2709 -91 1959 -91 \nQ 1206 -91 779 398 \nQ 353 888 353 1747 \nQ 353 2609 779 3096 \nQ 1206 3584 1959 3584 \nz\n\" id=\"DejaVuSans-6f\" transform=\"scale(0.015625)\"/>\n      <path id=\"DejaVuSans-20\" transform=\"scale(0.015625)\"/>\n      <path d=\"M 2375 4863 \nL 2375 4384 \nL 1825 4384 \nQ 1516 4384 1395 4259 \nQ 1275 4134 1275 3809 \nL 1275 3500 \nL 2222 3500 \nL 2222 3053 \nL 1275 3053 \nL 1275 0 \nL 697 0 \nL 697 3053 \nL 147 3053 \nL 147 3500 \nL 697 3500 \nL 697 3744 \nQ 697 4328 969 4595 \nQ 1241 4863 1831 4863 \nL 2375 4863 \nz\n\" id=\"DejaVuSans-66\" transform=\"scale(0.015625)\"/>\n      <path d=\"M 3122 3366 \nL 3122 2828 \nQ 2878 2963 2633 3030 \nQ 2388 3097 2138 3097 \nQ 1578 3097 1268 2742 \nQ 959 2388 959 1747 \nQ 959 1106 1268 751 \nQ 1578 397 2138 397 \nQ 2388 397 2633 464 \nQ 2878 531 3122 666 \nL 3122 134 \nQ 2881 22 2623 -34 \nQ 2366 -91 2075 -91 \nQ 1284 -91 818 406 \nQ 353 903 353 1747 \nQ 353 2603 823 3093 \nQ 1294 3584 2113 3584 \nQ 2378 3584 2631 3529 \nQ 2884 3475 3122 3366 \nz\n\" id=\"DejaVuSans-63\" transform=\"scale(0.015625)\"/>\n      <path d=\"M 603 4863 \nL 1178 4863 \nL 1178 0 \nL 603 0 \nL 603 4863 \nz\n\" id=\"DejaVuSans-6c\" transform=\"scale(0.015625)\"/>\n      <path d=\"M 2194 1759 \nQ 1497 1759 1228 1600 \nQ 959 1441 959 1056 \nQ 959 750 1161 570 \nQ 1363 391 1709 391 \nQ 2188 391 2477 730 \nQ 2766 1069 2766 1631 \nL 2766 1759 \nL 2194 1759 \nz\nM 3341 1997 \nL 3341 0 \nL 2766 0 \nL 2766 531 \nQ 2569 213 2275 61 \nQ 1981 -91 1556 -91 \nQ 1019 -91 701 211 \nQ 384 513 384 1019 \nQ 384 1609 779 1909 \nQ 1175 2209 1959 2209 \nL 2766 2209 \nL 2766 2266 \nQ 2766 2663 2505 2880 \nQ 2244 3097 1772 3097 \nQ 1472 3097 1187 3025 \nQ 903 2953 641 2809 \nL 641 3341 \nQ 956 3463 1253 3523 \nQ 1550 3584 1831 3584 \nQ 2591 3584 2966 3190 \nQ 3341 2797 3341 1997 \nz\n\" id=\"DejaVuSans-61\" transform=\"scale(0.015625)\"/>\n      <path d=\"M 2834 3397 \nL 2834 2853 \nQ 2591 2978 2328 3040 \nQ 2066 3103 1784 3103 \nQ 1356 3103 1142 2972 \nQ 928 2841 928 2578 \nQ 928 2378 1081 2264 \nQ 1234 2150 1697 2047 \nL 1894 2003 \nQ 2506 1872 2764 1633 \nQ 3022 1394 3022 966 \nQ 3022 478 2636 193 \nQ 2250 -91 1575 -91 \nQ 1294 -91 989 -36 \nQ 684 19 347 128 \nL 347 722 \nQ 666 556 975 473 \nQ 1284 391 1588 391 \nQ 1994 391 2212 530 \nQ 2431 669 2431 922 \nQ 2431 1156 2273 1281 \nQ 2116 1406 1581 1522 \nL 1381 1569 \nQ 847 1681 609 1914 \nQ 372 2147 372 2553 \nQ 372 3047 722 3315 \nQ 1072 3584 1716 3584 \nQ 2034 3584 2315 3537 \nQ 2597 3491 2834 3397 \nz\n\" id=\"DejaVuSans-73\" transform=\"scale(0.015625)\"/>\n      <path d=\"M 403 4666 \nL 1081 4666 \nL 1953 2747 \nL 3616 4666 \nL 4325 4666 \nL 2209 2222 \nL 1778 0 \nL 1147 0 \nL 1575 2222 \nL 403 4666 \nz\n\" id=\"DejaVuSans-Oblique-59\" transform=\"scale(0.015625)\"/>\n     </defs>\n     <use transform=\"translate(0 0.015625)\" xlink:href=\"#DejaVuSans-70\"/>\n     <use transform=\"translate(63.476562 0.015625)\" xlink:href=\"#DejaVuSans-72\"/>\n     <use transform=\"translate(104.589844 0.015625)\" xlink:href=\"#DejaVuSans-69\"/>\n     <use transform=\"translate(132.373047 0.015625)\" xlink:href=\"#DejaVuSans-6f\"/>\n     <use transform=\"translate(193.554688 0.015625)\" xlink:href=\"#DejaVuSans-72\"/>\n     <use transform=\"translate(234.667969 0.015625)\" xlink:href=\"#DejaVuSans-20\"/>\n     <use transform=\"translate(266.455078 0.015625)\" xlink:href=\"#DejaVuSans-66\"/>\n     <use transform=\"translate(301.660156 0.015625)\" xlink:href=\"#DejaVuSans-6f\"/>\n     <use transform=\"translate(362.841797 0.015625)\" xlink:href=\"#DejaVuSans-72\"/>\n     <use transform=\"translate(403.955078 0.015625)\" xlink:href=\"#DejaVuSans-20\"/>\n     <use transform=\"translate(435.742188 0.015625)\" xlink:href=\"#DejaVuSans-63\"/>\n     <use transform=\"translate(490.722656 0.015625)\" xlink:href=\"#DejaVuSans-6c\"/>\n     <use transform=\"translate(518.505859 0.015625)\" xlink:href=\"#DejaVuSans-61\"/>\n     <use transform=\"translate(579.785156 0.015625)\" xlink:href=\"#DejaVuSans-73\"/>\n     <use transform=\"translate(631.884766 0.015625)\" xlink:href=\"#DejaVuSans-73\"/>\n     <use transform=\"translate(683.984375 0.015625)\" xlink:href=\"#DejaVuSans-20\"/>\n     <use transform=\"translate(715.771484 0.015625)\" xlink:href=\"#DejaVuSans-Oblique-59\"/>\n    </g>\n   </g>\n  </g>\n  <g id=\"axes_2\">\n   <g id=\"patch_9\">\n    <path d=\"M 274.282292 181.72 \nL 460.446351 181.72 \nL 460.446351 22.32 \nL 274.282292 22.32 \nz\n\" style=\"fill:#ffffff;\"/>\n   </g>\n   <g id=\"patch_10\">\n    <path clip-path=\"url(#p9149161997)\" d=\"M 282.746091 181.72 \nL 286.111716 181.72 \nL 286.111716 39.657138 \nL 282.746091 39.657138 \nz\n\" style=\"fill:#008000;opacity:0.5;\"/>\n   </g>\n   <g id=\"patch_11\">\n    <path clip-path=\"url(#p9149161997)\" d=\"M 286.111716 181.72 \nL 289.477341 181.72 \nL 289.477341 31.955394 \nL 286.111716 31.955394 \nz\n\" style=\"fill:#008000;opacity:0.5;\"/>\n   </g>\n   <g id=\"patch_12\">\n    <path clip-path=\"url(#p9149161997)\" d=\"M 289.477341 181.72 \nL 292.842965 181.72 \nL 292.842965 31.116562 \nL 289.477341 31.116562 \nz\n\" style=\"fill:#008000;opacity:0.5;\"/>\n   </g>\n   <g id=\"patch_13\">\n    <path clip-path=\"url(#p9149161997)\" d=\"M 292.842965 181.72 \nL 296.208591 181.72 \nL 296.208591 43.012379 \nL 292.842965 43.012379 \nz\n\" style=\"fill:#008000;opacity:0.5;\"/>\n   </g>\n   <g id=\"patch_14\">\n    <path clip-path=\"url(#p9149161997)\" d=\"M 296.20859 181.72 \nL 299.574214 181.72 \nL 299.574214 40.419661 \nL 296.20859 40.419661 \nz\n\" style=\"fill:#008000;opacity:0.5;\"/>\n   </g>\n   <g id=\"patch_15\">\n    <path clip-path=\"url(#p9149161997)\" d=\"M 299.574214 181.72 \nL 302.939838 181.72 \nL 302.939838 49.646504 \nL 299.574214 49.646504 \nz\n\" style=\"fill:#008000;opacity:0.5;\"/>\n   </g>\n   <g id=\"patch_16\">\n    <path clip-path=\"url(#p9149161997)\" d=\"M 302.939837 181.72 \nL 306.305461 181.72 \nL 306.305461 51.857945 \nL 302.939837 51.857945 \nz\n\" style=\"fill:#008000;opacity:0.5;\"/>\n   </g>\n   <g id=\"patch_17\">\n    <path clip-path=\"url(#p9149161997)\" d=\"M 306.305466 181.72 \nL 309.67109 181.72 \nL 309.67109 54.374308 \nL 306.305466 54.374308 \nz\n\" style=\"fill:#008000;opacity:0.5;\"/>\n   </g>\n   <g id=\"patch_18\">\n    <path clip-path=\"url(#p9149161997)\" d=\"M 309.671087 181.72 \nL 313.036711 181.72 \nL 313.036711 62.304818 \nL 309.671087 62.304818 \nz\n\" style=\"fill:#008000;opacity:0.5;\"/>\n   </g>\n   <g id=\"patch_19\">\n    <path clip-path=\"url(#p9149161997)\" d=\"M 313.036714 181.72 \nL 316.402338 181.72 \nL 316.402338 64.516211 \nL 313.036714 64.516211 \nz\n\" style=\"fill:#008000;opacity:0.5;\"/>\n   </g>\n   <g id=\"patch_20\">\n    <path clip-path=\"url(#p9149161997)\" d=\"M 316.402336 181.72 \nL 319.767962 181.72 \nL 319.767962 58.87344 \nL 316.402336 58.87344 \nz\n\" style=\"fill:#008000;opacity:0.5;\"/>\n   </g>\n   <g id=\"patch_21\">\n    <path clip-path=\"url(#p9149161997)\" d=\"M 319.767962 181.72 \nL 323.133586 181.72 \nL 323.133586 62.228563 \nL 319.767962 62.228563 \nz\n\" style=\"fill:#008000;opacity:0.5;\"/>\n   </g>\n   <g id=\"patch_22\">\n    <path clip-path=\"url(#p9149161997)\" d=\"M 323.133589 181.72 \nL 326.49921 181.72 \nL 326.49921 63.372387 \nL 323.133589 63.372387 \nz\n\" style=\"fill:#008000;opacity:0.5;\"/>\n   </g>\n   <g id=\"patch_23\">\n    <path clip-path=\"url(#p9149161997)\" d=\"M 326.49921 181.72 \nL 329.864837 181.72 \nL 329.864837 70.387922 \nL 326.49921 70.387922 \nz\n\" style=\"fill:#008000;opacity:0.5;\"/>\n   </g>\n   <g id=\"patch_24\">\n    <path clip-path=\"url(#p9149161997)\" d=\"M 329.864837 181.72 \nL 333.230458 181.72 \nL 333.230458 76.106877 \nL 329.864837 76.106877 \nz\n\" style=\"fill:#008000;opacity:0.5;\"/>\n   </g>\n   <g id=\"patch_25\">\n    <path clip-path=\"url(#p9149161997)\" d=\"M 333.230453 181.72 \nL 336.59608 181.72 \nL 336.59608 72.980587 \nL 333.230453 72.980587 \nz\n\" style=\"fill:#008000;opacity:0.5;\"/>\n   </g>\n   <g id=\"patch_26\">\n    <path clip-path=\"url(#p9149161997)\" d=\"M 336.596085 181.72 \nL 339.961706 181.72 \nL 339.961706 79.38584 \nL 336.596085 79.38584 \nz\n\" style=\"fill:#008000;opacity:0.5;\"/>\n   </g>\n   <g id=\"patch_27\">\n    <path clip-path=\"url(#p9149161997)\" d=\"M 339.961706 181.72 \nL 343.327333 181.72 \nL 343.327333 80.911091 \nL 339.961706 80.911091 \nz\n\" style=\"fill:#008000;opacity:0.5;\"/>\n   </g>\n   <g id=\"patch_28\">\n    <path clip-path=\"url(#p9149161997)\" d=\"M 343.327328 181.72 \nL 346.692955 181.72 \nL 346.692955 87.316498 \nL 343.327328 87.316498 \nz\n\" style=\"fill:#008000;opacity:0.5;\"/>\n   </g>\n   <g id=\"patch_29\">\n    <path clip-path=\"url(#p9149161997)\" d=\"M 346.69296 181.72 \nL 350.058581 181.72 \nL 350.058581 91.129105 \nL 346.69296 91.129105 \nz\n\" style=\"fill:#008000;opacity:0.5;\"/>\n   </g>\n   <g id=\"patch_30\">\n    <path clip-path=\"url(#p9149161997)\" d=\"M 350.058581 181.72 \nL 353.424208 181.72 \nL 353.424208 91.510515 \nL 350.058581 91.510515 \nz\n\" style=\"fill:#008000;opacity:0.5;\"/>\n   </g>\n   <g id=\"patch_31\">\n    <path clip-path=\"url(#p9149161997)\" d=\"M 353.424208 181.72 \nL 356.789829 181.72 \nL 356.789829 95.856912 \nL 353.424208 95.856912 \nz\n\" style=\"fill:#008000;opacity:0.5;\"/>\n   </g>\n   <g id=\"patch_32\">\n    <path clip-path=\"url(#p9149161997)\" d=\"M 356.789824 181.72 \nL 360.155451 181.72 \nL 360.155451 95.399512 \nL 356.789824 95.399512 \nz\n\" style=\"fill:#008000;opacity:0.5;\"/>\n   </g>\n   <g id=\"patch_33\">\n    <path clip-path=\"url(#p9149161997)\" d=\"M 360.155456 181.72 \nL 363.521082 181.72 \nL 363.521082 104.321329 \nL 360.155456 104.321329 \nz\n\" style=\"fill:#008000;opacity:0.5;\"/>\n   </g>\n   <g id=\"patch_34\">\n    <path clip-path=\"url(#p9149161997)\" d=\"M 363.521082 181.72 \nL 366.886704 181.72 \nL 366.886704 102.109819 \nL 363.521082 102.109819 \nz\n\" style=\"fill:#008000;opacity:0.5;\"/>\n   </g>\n   <g id=\"patch_35\">\n    <path clip-path=\"url(#p9149161997)\" d=\"M 366.886699 181.72 \nL 370.252331 181.72 \nL 370.252331 110.116698 \nL 366.886699 110.116698 \nz\n\" style=\"fill:#008000;opacity:0.5;\"/>\n   </g>\n   <g id=\"patch_36\">\n    <path clip-path=\"url(#p9149161997)\" d=\"M 370.252331 181.72 \nL 373.617952 181.72 \nL 373.617952 108.744001 \nL 370.252331 108.744001 \nz\n\" style=\"fill:#008000;opacity:0.5;\"/>\n   </g>\n   <g id=\"patch_37\">\n    <path clip-path=\"url(#p9149161997)\" d=\"M 373.617942 181.72 \nL 376.983563 181.72 \nL 376.983563 112.938024 \nL 373.617942 112.938024 \nz\n\" style=\"fill:#008000;opacity:0.5;\"/>\n   </g>\n   <g id=\"patch_38\">\n    <path clip-path=\"url(#p9149161997)\" d=\"M 376.983574 181.72 \nL 380.349205 181.72 \nL 380.349205 117.28475 \nL 376.983574 117.28475 \nz\n\" style=\"fill:#008000;opacity:0.5;\"/>\n   </g>\n   <g id=\"patch_39\">\n    <path clip-path=\"url(#p9149161997)\" d=\"M 380.349205 181.72 \nL 383.714827 181.72 \nL 383.714827 117.284557 \nL 380.349205 117.284557 \nz\n\" style=\"fill:#008000;opacity:0.5;\"/>\n   </g>\n   <g id=\"patch_40\">\n    <path clip-path=\"url(#p9149161997)\" d=\"M 383.714817 181.72 \nL 387.080438 181.72 \nL 387.080438 120.944795 \nL 383.714817 120.944795 \nz\n\" style=\"fill:#008000;opacity:0.5;\"/>\n   </g>\n   <g id=\"patch_41\">\n    <path clip-path=\"url(#p9149161997)\" d=\"M 387.080448 181.72 \nL 390.44608 181.72 \nL 390.44608 123.842657 \nL 387.080448 123.842657 \nz\n\" style=\"fill:#008000;opacity:0.5;\"/>\n   </g>\n   <g id=\"patch_42\">\n    <path clip-path=\"url(#p9149161997)\" d=\"M 390.44608 181.72 \nL 393.811701 181.72 \nL 393.811701 127.883997 \nL 390.44608 127.883997 \nz\n\" style=\"fill:#008000;opacity:0.5;\"/>\n   </g>\n   <g id=\"patch_43\">\n    <path clip-path=\"url(#p9149161997)\" d=\"M 393.811691 181.72 \nL 397.177313 181.72 \nL 397.177313 129.790371 \nL 393.811691 129.790371 \nz\n\" style=\"fill:#008000;opacity:0.5;\"/>\n   </g>\n   <g id=\"patch_44\">\n    <path clip-path=\"url(#p9149161997)\" d=\"M 397.177323 181.72 \nL 400.542955 181.72 \nL 400.542955 131.46813 \nL 397.177323 131.46813 \nz\n\" style=\"fill:#008000;opacity:0.5;\"/>\n   </g>\n   <g id=\"patch_45\">\n    <path clip-path=\"url(#p9149161997)\" d=\"M 400.542955 181.72 \nL 403.908576 181.72 \nL 403.908576 137.110847 \nL 400.542955 137.110847 \nz\n\" style=\"fill:#008000;opacity:0.5;\"/>\n   </g>\n   <g id=\"patch_46\">\n    <path clip-path=\"url(#p9149161997)\" d=\"M 403.908566 181.72 \nL 407.274188 181.72 \nL 407.274188 142.296184 \nL 403.908566 142.296184 \nz\n\" style=\"fill:#008000;opacity:0.5;\"/>\n   </g>\n   <g id=\"patch_47\">\n    <path clip-path=\"url(#p9149161997)\" d=\"M 407.274198 181.72 \nL 410.639819 181.72 \nL 410.639819 141.91491 \nL 407.274198 141.91491 \nz\n\" style=\"fill:#008000;opacity:0.5;\"/>\n   </g>\n   <g id=\"patch_48\">\n    <path clip-path=\"url(#p9149161997)\" d=\"M 410.639819 181.72 \nL 414.005451 181.72 \nL 414.005451 145.727766 \nL 410.639819 145.727766 \nz\n\" style=\"fill:#008000;opacity:0.5;\"/>\n   </g>\n   <g id=\"patch_49\">\n    <path clip-path=\"url(#p9149161997)\" d=\"M 414.005441 181.72 \nL 417.371062 181.72 \nL 417.371062 151.218015 \nL 414.005441 151.218015 \nz\n\" style=\"fill:#008000;opacity:0.5;\"/>\n   </g>\n   <g id=\"patch_50\">\n    <path clip-path=\"url(#p9149161997)\" d=\"M 417.371072 181.72 \nL 420.736694 181.72 \nL 420.736694 150.607975 \nL 417.371072 150.607975 \nz\n\" style=\"fill:#008000;opacity:0.5;\"/>\n   </g>\n   <g id=\"patch_51\">\n    <path clip-path=\"url(#p9149161997)\" d=\"M 420.736694 181.72 \nL 424.102325 181.72 \nL 424.102325 152.666946 \nL 420.736694 152.666946 \nz\n\" style=\"fill:#008000;opacity:0.5;\"/>\n   </g>\n   <g id=\"patch_52\">\n    <path clip-path=\"url(#p9149161997)\" d=\"M 424.102315 181.72 \nL 427.467937 181.72 \nL 427.467937 157.318412 \nL 424.102315 157.318412 \nz\n\" style=\"fill:#008000;opacity:0.5;\"/>\n   </g>\n   <g id=\"patch_53\">\n    <path clip-path=\"url(#p9149161997)\" d=\"M 427.467947 181.72 \nL 430.833569 181.72 \nL 430.833569 159.682316 \nL 427.467947 159.682316 \nz\n\" style=\"fill:#008000;opacity:0.5;\"/>\n   </g>\n   <g id=\"patch_54\">\n    <path clip-path=\"url(#p9149161997)\" d=\"M 430.833569 181.72 \nL 434.1992 181.72 \nL 434.1992 163.800138 \nL 430.833569 163.800138 \nz\n\" style=\"fill:#008000;opacity:0.5;\"/>\n   </g>\n   <g id=\"patch_55\">\n    <path clip-path=\"url(#p9149161997)\" d=\"M 434.19919 181.72 \nL 437.564812 181.72 \nL 437.564812 165.782713 \nL 434.19919 165.782713 \nz\n\" style=\"fill:#008000;opacity:0.5;\"/>\n   </g>\n   <g id=\"patch_56\">\n    <path clip-path=\"url(#p9149161997)\" d=\"M 437.564822 181.72 \nL 440.930443 181.72 \nL 440.930443 170.358011 \nL 437.564822 170.358011 \nz\n\" style=\"fill:#008000;opacity:0.5;\"/>\n   </g>\n   <g id=\"patch_57\">\n    <path clip-path=\"url(#p9149161997)\" d=\"M 440.930433 181.72 \nL 444.296055 181.72 \nL 444.296055 173.408209 \nL 440.930433 173.408209 \nz\n\" style=\"fill:#008000;opacity:0.5;\"/>\n   </g>\n   <g id=\"patch_58\">\n    <path clip-path=\"url(#p9149161997)\" d=\"M 444.296065 181.72 \nL 447.661696 181.72 \nL 447.661696 176.305914 \nL 444.296065 176.305914 \nz\n\" style=\"fill:#008000;opacity:0.5;\"/>\n   </g>\n   <g id=\"patch_59\">\n    <path clip-path=\"url(#p9149161997)\" d=\"M 447.661696 181.72 \nL 451.027318 181.72 \nL 451.027318 179.889881 \nL 447.661696 179.889881 \nz\n\" style=\"fill:#008000;opacity:0.5;\"/>\n   </g>\n   <g id=\"matplotlib.axis_3\">\n    <g id=\"xtick_3\">\n     <g id=\"line2d_6\">\n      <g>\n       <use style=\"stroke:#000000;stroke-width:0.8;\" x=\"282.744294\" xlink:href=\"#m5d9fc164c3\" y=\"181.72\"/>\n      </g>\n     </g>\n     <g id=\"text_7\">\n      <!-- 0.0 -->\n      <g transform=\"translate(274.792732 196.318437)scale(0.1 -0.1)\">\n       <defs>\n        <path d=\"M 684 794 \nL 1344 794 \nL 1344 0 \nL 684 0 \nL 684 794 \nz\n\" id=\"DejaVuSans-2e\" transform=\"scale(0.015625)\"/>\n       </defs>\n       <use xlink:href=\"#DejaVuSans-30\"/>\n       <use x=\"63.623047\" xlink:href=\"#DejaVuSans-2e\"/>\n       <use x=\"95.410156\" xlink:href=\"#DejaVuSans-30\"/>\n      </g>\n     </g>\n    </g>\n    <g id=\"xtick_4\">\n     <g id=\"line2d_7\">\n      <g>\n       <use style=\"stroke:#000000;stroke-width:0.8;\" x=\"316.592305\" xlink:href=\"#m5d9fc164c3\" y=\"181.72\"/>\n      </g>\n     </g>\n     <g id=\"text_8\">\n      <!-- 0.2 -->\n      <g transform=\"translate(308.640743 196.318437)scale(0.1 -0.1)\">\n       <use xlink:href=\"#DejaVuSans-30\"/>\n       <use x=\"63.623047\" xlink:href=\"#DejaVuSans-2e\"/>\n       <use x=\"95.410156\" xlink:href=\"#DejaVuSans-32\"/>\n      </g>\n     </g>\n    </g>\n    <g id=\"xtick_5\">\n     <g id=\"line2d_8\">\n      <g>\n       <use style=\"stroke:#000000;stroke-width:0.8;\" x=\"350.440316\" xlink:href=\"#m5d9fc164c3\" y=\"181.72\"/>\n      </g>\n     </g>\n     <g id=\"text_9\">\n      <!-- 0.4 -->\n      <g transform=\"translate(342.488754 196.318437)scale(0.1 -0.1)\">\n       <defs>\n        <path d=\"M 2419 4116 \nL 825 1625 \nL 2419 1625 \nL 2419 4116 \nz\nM 2253 4666 \nL 3047 4666 \nL 3047 1625 \nL 3713 1625 \nL 3713 1100 \nL 3047 1100 \nL 3047 0 \nL 2419 0 \nL 2419 1100 \nL 313 1100 \nL 313 1709 \nL 2253 4666 \nz\n\" id=\"DejaVuSans-34\" transform=\"scale(0.015625)\"/>\n       </defs>\n       <use xlink:href=\"#DejaVuSans-30\"/>\n       <use x=\"63.623047\" xlink:href=\"#DejaVuSans-2e\"/>\n       <use x=\"95.410156\" xlink:href=\"#DejaVuSans-34\"/>\n      </g>\n     </g>\n    </g>\n    <g id=\"xtick_6\">\n     <g id=\"line2d_9\">\n      <g>\n       <use style=\"stroke:#000000;stroke-width:0.8;\" x=\"384.288327\" xlink:href=\"#m5d9fc164c3\" y=\"181.72\"/>\n      </g>\n     </g>\n     <g id=\"text_10\">\n      <!-- 0.6 -->\n      <g transform=\"translate(376.336764 196.318437)scale(0.1 -0.1)\">\n       <defs>\n        <path d=\"M 2113 2584 \nQ 1688 2584 1439 2293 \nQ 1191 2003 1191 1497 \nQ 1191 994 1439 701 \nQ 1688 409 2113 409 \nQ 2538 409 2786 701 \nQ 3034 994 3034 1497 \nQ 3034 2003 2786 2293 \nQ 2538 2584 2113 2584 \nz\nM 3366 4563 \nL 3366 3988 \nQ 3128 4100 2886 4159 \nQ 2644 4219 2406 4219 \nQ 1781 4219 1451 3797 \nQ 1122 3375 1075 2522 \nQ 1259 2794 1537 2939 \nQ 1816 3084 2150 3084 \nQ 2853 3084 3261 2657 \nQ 3669 2231 3669 1497 \nQ 3669 778 3244 343 \nQ 2819 -91 2113 -91 \nQ 1303 -91 875 529 \nQ 447 1150 447 2328 \nQ 447 3434 972 4092 \nQ 1497 4750 2381 4750 \nQ 2619 4750 2861 4703 \nQ 3103 4656 3366 4563 \nz\n\" id=\"DejaVuSans-36\" transform=\"scale(0.015625)\"/>\n       </defs>\n       <use xlink:href=\"#DejaVuSans-30\"/>\n       <use x=\"63.623047\" xlink:href=\"#DejaVuSans-2e\"/>\n       <use x=\"95.410156\" xlink:href=\"#DejaVuSans-36\"/>\n      </g>\n     </g>\n    </g>\n    <g id=\"xtick_7\">\n     <g id=\"line2d_10\">\n      <g>\n       <use style=\"stroke:#000000;stroke-width:0.8;\" x=\"418.136338\" xlink:href=\"#m5d9fc164c3\" y=\"181.72\"/>\n      </g>\n     </g>\n     <g id=\"text_11\">\n      <!-- 0.8 -->\n      <g transform=\"translate(410.184775 196.318437)scale(0.1 -0.1)\">\n       <defs>\n        <path d=\"M 2034 2216 \nQ 1584 2216 1326 1975 \nQ 1069 1734 1069 1313 \nQ 1069 891 1326 650 \nQ 1584 409 2034 409 \nQ 2484 409 2743 651 \nQ 3003 894 3003 1313 \nQ 3003 1734 2745 1975 \nQ 2488 2216 2034 2216 \nz\nM 1403 2484 \nQ 997 2584 770 2862 \nQ 544 3141 544 3541 \nQ 544 4100 942 4425 \nQ 1341 4750 2034 4750 \nQ 2731 4750 3128 4425 \nQ 3525 4100 3525 3541 \nQ 3525 3141 3298 2862 \nQ 3072 2584 2669 2484 \nQ 3125 2378 3379 2068 \nQ 3634 1759 3634 1313 \nQ 3634 634 3220 271 \nQ 2806 -91 2034 -91 \nQ 1263 -91 848 271 \nQ 434 634 434 1313 \nQ 434 1759 690 2068 \nQ 947 2378 1403 2484 \nz\nM 1172 3481 \nQ 1172 3119 1398 2916 \nQ 1625 2713 2034 2713 \nQ 2441 2713 2670 2916 \nQ 2900 3119 2900 3481 \nQ 2900 3844 2670 4047 \nQ 2441 4250 2034 4250 \nQ 1625 4250 1398 4047 \nQ 1172 3844 1172 3481 \nz\n\" id=\"DejaVuSans-38\" transform=\"scale(0.015625)\"/>\n       </defs>\n       <use xlink:href=\"#DejaVuSans-30\"/>\n       <use x=\"63.623047\" xlink:href=\"#DejaVuSans-2e\"/>\n       <use x=\"95.410156\" xlink:href=\"#DejaVuSans-38\"/>\n      </g>\n     </g>\n    </g>\n    <g id=\"xtick_8\">\n     <g id=\"line2d_11\">\n      <g>\n       <use style=\"stroke:#000000;stroke-width:0.8;\" x=\"451.984349\" xlink:href=\"#m5d9fc164c3\" y=\"181.72\"/>\n      </g>\n     </g>\n     <g id=\"text_12\">\n      <!-- 1.0 -->\n      <g transform=\"translate(444.032786 196.318437)scale(0.1 -0.1)\">\n       <use xlink:href=\"#DejaVuSans-31\"/>\n       <use x=\"63.623047\" xlink:href=\"#DejaVuSans-2e\"/>\n       <use x=\"95.410156\" xlink:href=\"#DejaVuSans-30\"/>\n      </g>\n     </g>\n    </g>\n   </g>\n   <g id=\"matplotlib.axis_4\">\n    <g id=\"ytick_4\">\n     <g id=\"line2d_12\">\n      <g>\n       <use style=\"stroke:#000000;stroke-width:0.8;\" x=\"274.282292\" xlink:href=\"#m4c9e9a982f\" y=\"181.72\"/>\n      </g>\n     </g>\n     <g id=\"text_13\">\n      <!-- 0.0 -->\n      <g transform=\"translate(251.379167 185.519219)scale(0.1 -0.1)\">\n       <use xlink:href=\"#DejaVuSans-30\"/>\n       <use x=\"63.623047\" xlink:href=\"#DejaVuSans-2e\"/>\n       <use x=\"95.410156\" xlink:href=\"#DejaVuSans-30\"/>\n      </g>\n     </g>\n    </g>\n    <g id=\"ytick_5\">\n     <g id=\"line2d_13\">\n      <g>\n       <use style=\"stroke:#000000;stroke-width:0.8;\" x=\"274.282292\" xlink:href=\"#m4c9e9a982f\" y=\"143.767619\"/>\n      </g>\n     </g>\n     <g id=\"text_14\">\n      <!-- 0.5 -->\n      <g transform=\"translate(251.379167 147.566838)scale(0.1 -0.1)\">\n       <use xlink:href=\"#DejaVuSans-30\"/>\n       <use x=\"63.623047\" xlink:href=\"#DejaVuSans-2e\"/>\n       <use x=\"95.410156\" xlink:href=\"#DejaVuSans-35\"/>\n      </g>\n     </g>\n    </g>\n    <g id=\"ytick_6\">\n     <g id=\"line2d_14\">\n      <g>\n       <use style=\"stroke:#000000;stroke-width:0.8;\" x=\"274.282292\" xlink:href=\"#m4c9e9a982f\" y=\"105.815238\"/>\n      </g>\n     </g>\n     <g id=\"text_15\">\n      <!-- 1.0 -->\n      <g transform=\"translate(251.379167 109.614457)scale(0.1 -0.1)\">\n       <use xlink:href=\"#DejaVuSans-31\"/>\n       <use x=\"63.623047\" xlink:href=\"#DejaVuSans-2e\"/>\n       <use x=\"95.410156\" xlink:href=\"#DejaVuSans-30\"/>\n      </g>\n     </g>\n    </g>\n    <g id=\"ytick_7\">\n     <g id=\"line2d_15\">\n      <g>\n       <use style=\"stroke:#000000;stroke-width:0.8;\" x=\"274.282292\" xlink:href=\"#m4c9e9a982f\" y=\"67.862857\"/>\n      </g>\n     </g>\n     <g id=\"text_16\">\n      <!-- 1.5 -->\n      <g transform=\"translate(251.379167 71.662076)scale(0.1 -0.1)\">\n       <use xlink:href=\"#DejaVuSans-31\"/>\n       <use x=\"63.623047\" xlink:href=\"#DejaVuSans-2e\"/>\n       <use x=\"95.410156\" xlink:href=\"#DejaVuSans-35\"/>\n      </g>\n     </g>\n    </g>\n    <g id=\"ytick_8\">\n     <g id=\"line2d_16\">\n      <g>\n       <use style=\"stroke:#000000;stroke-width:0.8;\" x=\"274.282292\" xlink:href=\"#m4c9e9a982f\" y=\"29.910476\"/>\n      </g>\n     </g>\n     <g id=\"text_17\">\n      <!-- 2.0 -->\n      <g transform=\"translate(251.379167 33.709695)scale(0.1 -0.1)\">\n       <use xlink:href=\"#DejaVuSans-32\"/>\n       <use x=\"63.623047\" xlink:href=\"#DejaVuSans-2e\"/>\n       <use x=\"95.410156\" xlink:href=\"#DejaVuSans-30\"/>\n      </g>\n     </g>\n    </g>\n    <g id=\"text_18\">\n     <!-- $p(X = x \\mid Y = 0)$ -->\n     <g transform=\"translate(245.179167 138.47)rotate(-90)scale(0.1 -0.1)\">\n      <defs>\n       <path d=\"M 3175 2156 \nQ 3175 2616 2975 2859 \nQ 2775 3103 2400 3103 \nQ 2144 3103 1911 2972 \nQ 1678 2841 1497 2591 \nQ 1319 2344 1212 1994 \nQ 1106 1644 1106 1300 \nQ 1106 863 1306 627 \nQ 1506 391 1875 391 \nQ 2147 391 2380 519 \nQ 2613 647 2778 891 \nQ 2956 1147 3065 1494 \nQ 3175 1841 3175 2156 \nz\nM 1394 2969 \nQ 1625 3272 1939 3428 \nQ 2253 3584 2638 3584 \nQ 3175 3584 3472 3232 \nQ 3769 2881 3769 2247 \nQ 3769 1728 3584 1258 \nQ 3400 788 3053 416 \nQ 2822 169 2531 39 \nQ 2241 -91 1919 -91 \nQ 1547 -91 1294 64 \nQ 1041 219 916 525 \nL 556 -1331 \nL -19 -1331 \nL 922 3500 \nL 1497 3500 \nL 1394 2969 \nz\n\" id=\"DejaVuSans-Oblique-70\" transform=\"scale(0.015625)\"/>\n       <path d=\"M 1984 4856 \nQ 1566 4138 1362 3434 \nQ 1159 2731 1159 2009 \nQ 1159 1288 1364 580 \nQ 1569 -128 1984 -844 \nL 1484 -844 \nQ 1016 -109 783 600 \nQ 550 1309 550 2009 \nQ 550 2706 781 3412 \nQ 1013 4119 1484 4856 \nL 1984 4856 \nz\n\" id=\"DejaVuSans-28\" transform=\"scale(0.015625)\"/>\n       <path d=\"M 878 4666 \nL 1516 4666 \nL 2316 2981 \nL 3763 4666 \nL 4500 4666 \nL 2578 2438 \nL 3738 0 \nL 3103 0 \nL 2163 1966 \nL 459 0 \nL -275 0 \nL 1906 2509 \nL 878 4666 \nz\n\" id=\"DejaVuSans-Oblique-58\" transform=\"scale(0.015625)\"/>\n       <path d=\"M 678 2906 \nL 4684 2906 \nL 4684 2381 \nL 678 2381 \nL 678 2906 \nz\nM 678 1631 \nL 4684 1631 \nL 4684 1100 \nL 678 1100 \nL 678 1631 \nz\n\" id=\"DejaVuSans-3d\" transform=\"scale(0.015625)\"/>\n       <path d=\"M 3841 3500 \nL 2234 1784 \nL 3219 0 \nL 2559 0 \nL 1819 1388 \nL 531 0 \nL -166 0 \nL 1556 1844 \nL 641 3500 \nL 1300 3500 \nL 1972 2234 \nL 3144 3500 \nL 3841 3500 \nz\n\" id=\"DejaVuSans-Oblique-78\" transform=\"scale(0.015625)\"/>\n       <path d=\"M 1350 4934 \nL 1850 4934 \nL 1850 -1369 \nL 1350 -1369 \nL 1350 4934 \nz\n\" id=\"DejaVuSans-2223\" transform=\"scale(0.015625)\"/>\n       <path d=\"M 513 4856 \nL 1013 4856 \nQ 1481 4119 1714 3412 \nQ 1947 2706 1947 2009 \nQ 1947 1309 1714 600 \nQ 1481 -109 1013 -844 \nL 513 -844 \nQ 928 -128 1133 580 \nQ 1338 1288 1338 2009 \nQ 1338 2731 1133 3434 \nQ 928 4138 513 4856 \nz\n\" id=\"DejaVuSans-29\" transform=\"scale(0.015625)\"/>\n      </defs>\n      <use transform=\"translate(0 0.90625)\" xlink:href=\"#DejaVuSans-Oblique-70\"/>\n      <use transform=\"translate(63.476562 0.90625)\" xlink:href=\"#DejaVuSans-28\"/>\n      <use transform=\"translate(102.490234 0.90625)\" xlink:href=\"#DejaVuSans-Oblique-58\"/>\n      <use transform=\"translate(190.478516 0.90625)\" xlink:href=\"#DejaVuSans-3d\"/>\n      <use transform=\"translate(293.75 0.90625)\" xlink:href=\"#DejaVuSans-Oblique-78\"/>\n      <use transform=\"translate(372.412109 0.90625)\" xlink:href=\"#DejaVuSans-2223\"/>\n      <use transform=\"translate(441.894531 0.90625)\" xlink:href=\"#DejaVuSans-Oblique-59\"/>\n      <use transform=\"translate(522.460938 0.90625)\" xlink:href=\"#DejaVuSans-3d\"/>\n      <use transform=\"translate(625.732422 0.90625)\" xlink:href=\"#DejaVuSans-30\"/>\n      <use transform=\"translate(689.355469 0.90625)\" xlink:href=\"#DejaVuSans-29\"/>\n     </g>\n    </g>\n   </g>\n   <g id=\"line2d_17\">\n    <path clip-path=\"url(#p9149161997)\" d=\"M 282.744294 29.910476 \nL 451.984349 181.72 \n\" style=\"fill:none;stroke:#ff7f0e;stroke-linecap:square;stroke-width:1.5;\"/>\n   </g>\n   <g id=\"patch_60\">\n    <path d=\"M 274.282292 181.72 \nL 274.282292 22.32 \n\" style=\"fill:none;stroke:#000000;stroke-linecap:square;stroke-linejoin:miter;stroke-width:0.8;\"/>\n   </g>\n   <g id=\"patch_61\">\n    <path d=\"M 460.446351 181.72 \nL 460.446351 22.32 \n\" style=\"fill:none;stroke:#000000;stroke-linecap:square;stroke-linejoin:miter;stroke-width:0.8;\"/>\n   </g>\n   <g id=\"patch_62\">\n    <path d=\"M 274.282292 181.72 \nL 460.446351 181.72 \n\" style=\"fill:none;stroke:#000000;stroke-linecap:square;stroke-linejoin:miter;stroke-width:0.8;\"/>\n   </g>\n   <g id=\"patch_63\">\n    <path d=\"M 274.282292 22.32 \nL 460.446351 22.32 \n\" style=\"fill:none;stroke:#000000;stroke-linecap:square;stroke-linejoin:miter;stroke-width:0.8;\"/>\n   </g>\n   <g id=\"text_19\">\n    <!-- likelihood for $Y = 0$ -->\n    <g transform=\"translate(311.624322 16.32)scale(0.12 -0.12)\">\n     <defs>\n      <path d=\"M 3597 1894 \nL 3597 1613 \nL 953 1613 \nQ 991 1019 1311 708 \nQ 1631 397 2203 397 \nQ 2534 397 2845 478 \nQ 3156 559 3463 722 \nL 3463 178 \nQ 3153 47 2828 -22 \nQ 2503 -91 2169 -91 \nQ 1331 -91 842 396 \nQ 353 884 353 1716 \nQ 353 2575 817 3079 \nQ 1281 3584 2069 3584 \nQ 2775 3584 3186 3129 \nQ 3597 2675 3597 1894 \nz\nM 3022 2063 \nQ 3016 2534 2758 2815 \nQ 2500 3097 2075 3097 \nQ 1594 3097 1305 2825 \nQ 1016 2553 972 2059 \nL 3022 2063 \nz\n\" id=\"DejaVuSans-65\" transform=\"scale(0.015625)\"/>\n      <path d=\"M 3513 2113 \nL 3513 0 \nL 2938 0 \nL 2938 2094 \nQ 2938 2591 2744 2837 \nQ 2550 3084 2163 3084 \nQ 1697 3084 1428 2787 \nQ 1159 2491 1159 1978 \nL 1159 0 \nL 581 0 \nL 581 4863 \nL 1159 4863 \nL 1159 2956 \nQ 1366 3272 1645 3428 \nQ 1925 3584 2291 3584 \nQ 2894 3584 3203 3211 \nQ 3513 2838 3513 2113 \nz\n\" id=\"DejaVuSans-68\" transform=\"scale(0.015625)\"/>\n      <path d=\"M 2906 2969 \nL 2906 4863 \nL 3481 4863 \nL 3481 0 \nL 2906 0 \nL 2906 525 \nQ 2725 213 2448 61 \nQ 2172 -91 1784 -91 \nQ 1150 -91 751 415 \nQ 353 922 353 1747 \nQ 353 2572 751 3078 \nQ 1150 3584 1784 3584 \nQ 2172 3584 2448 3432 \nQ 2725 3281 2906 2969 \nz\nM 947 1747 \nQ 947 1113 1208 752 \nQ 1469 391 1925 391 \nQ 2381 391 2643 752 \nQ 2906 1113 2906 1747 \nQ 2906 2381 2643 2742 \nQ 2381 3103 1925 3103 \nQ 1469 3103 1208 2742 \nQ 947 2381 947 1747 \nz\n\" id=\"DejaVuSans-64\" transform=\"scale(0.015625)\"/>\n     </defs>\n     <use transform=\"translate(0 0.015625)\" xlink:href=\"#DejaVuSans-6c\"/>\n     <use transform=\"translate(27.783203 0.015625)\" xlink:href=\"#DejaVuSans-69\"/>\n     <use transform=\"translate(55.566406 0.015625)\" xlink:href=\"#DejaVuSans-6b\"/>\n     <use transform=\"translate(113.476562 0.015625)\" xlink:href=\"#DejaVuSans-65\"/>\n     <use transform=\"translate(175 0.015625)\" xlink:href=\"#DejaVuSans-6c\"/>\n     <use transform=\"translate(202.783203 0.015625)\" xlink:href=\"#DejaVuSans-69\"/>\n     <use transform=\"translate(230.566406 0.015625)\" xlink:href=\"#DejaVuSans-68\"/>\n     <use transform=\"translate(293.945312 0.015625)\" xlink:href=\"#DejaVuSans-6f\"/>\n     <use transform=\"translate(355.126953 0.015625)\" xlink:href=\"#DejaVuSans-6f\"/>\n     <use transform=\"translate(416.308594 0.015625)\" xlink:href=\"#DejaVuSans-64\"/>\n     <use transform=\"translate(479.785156 0.015625)\" xlink:href=\"#DejaVuSans-20\"/>\n     <use transform=\"translate(511.572266 0.015625)\" xlink:href=\"#DejaVuSans-66\"/>\n     <use transform=\"translate(546.777344 0.015625)\" xlink:href=\"#DejaVuSans-6f\"/>\n     <use transform=\"translate(607.958984 0.015625)\" xlink:href=\"#DejaVuSans-72\"/>\n     <use transform=\"translate(649.072266 0.015625)\" xlink:href=\"#DejaVuSans-20\"/>\n     <use transform=\"translate(680.859375 0.015625)\" xlink:href=\"#DejaVuSans-Oblique-59\"/>\n     <use transform=\"translate(761.425781 0.015625)\" xlink:href=\"#DejaVuSans-3d\"/>\n     <use transform=\"translate(864.697266 0.015625)\" xlink:href=\"#DejaVuSans-30\"/>\n    </g>\n   </g>\n  </g>\n  <g id=\"axes_3\">\n   <g id=\"patch_64\">\n    <path d=\"M 515.848958 181.72 \nL 702.013018 181.72 \nL 702.013018 22.32 \nL 515.848958 22.32 \nz\n\" style=\"fill:#ffffff;\"/>\n   </g>\n   <g id=\"patch_65\">\n    <path clip-path=\"url(#p1ee1efe2f2)\" d=\"M 524.618892 181.72 \nL 527.997514 181.72 \nL 527.997514 180.200389 \nL 524.618892 180.200389 \nz\n\" style=\"fill:#0000ff;opacity:0.5;\"/>\n   </g>\n   <g id=\"patch_66\">\n    <path clip-path=\"url(#p1ee1efe2f2)\" d=\"M 527.997514 181.72 \nL 531.376136 181.72 \nL 531.376136 176.705282 \nL 527.997514 176.705282 \nz\n\" style=\"fill:#0000ff;opacity:0.5;\"/>\n   </g>\n   <g id=\"patch_67\">\n    <path clip-path=\"url(#p1ee1efe2f2)\" d=\"M 531.376137 181.72 \nL 534.754759 181.72 \nL 534.754759 173.5141 \nL 531.376137 173.5141 \nz\n\" style=\"fill:#0000ff;opacity:0.5;\"/>\n   </g>\n   <g id=\"patch_68\">\n    <path clip-path=\"url(#p1ee1efe2f2)\" d=\"M 534.754758 181.72 \nL 538.13338 181.72 \nL 538.13338 171.690564 \nL 534.754758 171.690564 \nz\n\" style=\"fill:#0000ff;opacity:0.5;\"/>\n   </g>\n   <g id=\"patch_69\">\n    <path clip-path=\"url(#p1ee1efe2f2)\" d=\"M 538.13338 181.72 \nL 541.512002 181.72 \nL 541.512002 166.295944 \nL 538.13338 166.295944 \nz\n\" style=\"fill:#0000ff;opacity:0.5;\"/>\n   </g>\n   <g id=\"patch_70\">\n    <path clip-path=\"url(#p1ee1efe2f2)\" d=\"M 541.512001 181.72 \nL 544.890624 181.72 \nL 544.890624 164.320455 \nL 541.512001 164.320455 \nz\n\" style=\"fill:#0000ff;opacity:0.5;\"/>\n   </g>\n   <g id=\"patch_71\">\n    <path clip-path=\"url(#p1ee1efe2f2)\" d=\"M 544.890624 181.72 \nL 548.269247 181.72 \nL 548.269247 159.685634 \nL 544.890624 159.685634 \nz\n\" style=\"fill:#0000ff;opacity:0.5;\"/>\n   </g>\n   <g id=\"patch_72\">\n    <path clip-path=\"url(#p1ee1efe2f2)\" d=\"M 548.269247 181.72 \nL 551.647869 181.72 \nL 551.647869 156.646411 \nL 548.269247 156.646411 \nz\n\" style=\"fill:#0000ff;opacity:0.5;\"/>\n   </g>\n   <g id=\"patch_73\">\n    <path clip-path=\"url(#p1ee1efe2f2)\" d=\"M 551.647866 181.72 \nL 555.026488 181.72 \nL 555.026488 157.634159 \nL 551.647866 157.634159 \nz\n\" style=\"fill:#0000ff;opacity:0.5;\"/>\n   </g>\n   <g id=\"patch_74\">\n    <path clip-path=\"url(#p1ee1efe2f2)\" d=\"M 555.026491 181.72 \nL 558.405112 181.72 \nL 558.405112 152.771402 \nL 555.026491 152.771402 \nz\n\" style=\"fill:#0000ff;opacity:0.5;\"/>\n   </g>\n   <g id=\"patch_75\">\n    <path clip-path=\"url(#p1ee1efe2f2)\" d=\"M 558.40511 181.72 \nL 561.783732 181.72 \nL 561.783732 150.112082 \nL 558.40511 150.112082 \nz\n\" style=\"fill:#0000ff;opacity:0.5;\"/>\n   </g>\n   <g id=\"patch_76\">\n    <path clip-path=\"url(#p1ee1efe2f2)\" d=\"M 561.783734 181.72 \nL 565.162358 181.72 \nL 565.162358 146.085138 \nL 561.783734 146.085138 \nz\n\" style=\"fill:#0000ff;opacity:0.5;\"/>\n   </g>\n   <g id=\"patch_77\">\n    <path clip-path=\"url(#p1ee1efe2f2)\" d=\"M 565.162356 181.72 \nL 568.540978 181.72 \nL 568.540978 144.489492 \nL 565.162356 144.489492 \nz\n\" style=\"fill:#0000ff;opacity:0.5;\"/>\n   </g>\n   <g id=\"patch_78\">\n    <path clip-path=\"url(#p1ee1efe2f2)\" d=\"M 568.540978 181.72 \nL 571.919602 181.72 \nL 571.919602 142.438073 \nL 568.540978 142.438073 \nz\n\" style=\"fill:#0000ff;opacity:0.5;\"/>\n   </g>\n   <g id=\"patch_79\">\n    <path clip-path=\"url(#p1ee1efe2f2)\" d=\"M 571.919602 181.72 \nL 575.298221 181.72 \nL 575.298221 137.499274 \nL 571.919602 137.499274 \nz\n\" style=\"fill:#0000ff;opacity:0.5;\"/>\n   </g>\n   <g id=\"patch_80\">\n    <path clip-path=\"url(#p1ee1efe2f2)\" d=\"M 575.298221 181.72 \nL 578.676846 181.72 \nL 578.676846 131.192957 \nL 575.298221 131.192957 \nz\n\" style=\"fill:#0000ff;opacity:0.5;\"/>\n   </g>\n   <g id=\"patch_81\">\n    <path clip-path=\"url(#p1ee1efe2f2)\" d=\"M 578.676846 181.72 \nL 582.05547 181.72 \nL 582.05547 129.749327 \nL 578.676846 129.749327 \nz\n\" style=\"fill:#0000ff;opacity:0.5;\"/>\n   </g>\n   <g id=\"patch_82\">\n    <path clip-path=\"url(#p1ee1efe2f2)\" d=\"M 582.055465 181.72 \nL 585.434084 181.72 \nL 585.434084 128.761501 \nL 582.055465 128.761501 \nz\n\" style=\"fill:#0000ff;opacity:0.5;\"/>\n   </g>\n   <g id=\"patch_83\">\n    <path clip-path=\"url(#p1ee1efe2f2)\" d=\"M 585.434089 181.72 \nL 588.812713 181.72 \nL 588.812713 127.469912 \nL 585.434089 127.469912 \nz\n\" style=\"fill:#0000ff;opacity:0.5;\"/>\n   </g>\n   <g id=\"patch_84\">\n    <path clip-path=\"url(#p1ee1efe2f2)\" d=\"M 588.812713 181.72 \nL 592.191333 181.72 \nL 592.191333 123.138935 \nL 588.812713 123.138935 \nz\n\" style=\"fill:#0000ff;opacity:0.5;\"/>\n   </g>\n   <g id=\"patch_85\">\n    <path clip-path=\"url(#p1ee1efe2f2)\" d=\"M 592.191333 181.72 \nL 595.569957 181.72 \nL 595.569957 120.783626 \nL 592.191333 120.783626 \nz\n\" style=\"fill:#0000ff;opacity:0.5;\"/>\n   </g>\n   <g id=\"patch_86\">\n    <path clip-path=\"url(#p1ee1efe2f2)\" d=\"M 595.569952 181.72 \nL 598.948571 181.72 \nL 598.948571 119.111962 \nL 595.569952 119.111962 \nz\n\" style=\"fill:#0000ff;opacity:0.5;\"/>\n   </g>\n   <g id=\"patch_87\">\n    <path clip-path=\"url(#p1ee1efe2f2)\" d=\"M 598.948576 181.72 \nL 602.327201 181.72 \nL 602.327201 114.705185 \nL 598.948576 114.705185 \nz\n\" style=\"fill:#0000ff;opacity:0.5;\"/>\n   </g>\n   <g id=\"patch_88\">\n    <path clip-path=\"url(#p1ee1efe2f2)\" d=\"M 602.327201 181.72 \nL 605.70582 181.72 \nL 605.70582 107.866828 \nL 602.327201 107.866828 \nz\n\" style=\"fill:#0000ff;opacity:0.5;\"/>\n   </g>\n   <g id=\"patch_89\">\n    <path clip-path=\"url(#p1ee1efe2f2)\" d=\"M 605.705825 181.72 \nL 609.084459 181.72 \nL 609.084459 106.1195 \nL 605.705825 106.1195 \nz\n\" style=\"fill:#0000ff;opacity:0.5;\"/>\n   </g>\n   <g id=\"patch_90\">\n    <path clip-path=\"url(#p1ee1efe2f2)\" d=\"M 609.084439 181.72 \nL 612.463053 181.72 \nL 612.463053 108.01868 \nL 609.084439 108.01868 \nz\n\" style=\"fill:#0000ff;opacity:0.5;\"/>\n   </g>\n   <g id=\"patch_91\">\n    <path clip-path=\"url(#p1ee1efe2f2)\" d=\"M 612.463063 181.72 \nL 615.841688 181.72 \nL 615.841688 100.268887 \nL 612.463063 100.268887 \nz\n\" style=\"fill:#0000ff;opacity:0.5;\"/>\n   </g>\n   <g id=\"patch_92\">\n    <path clip-path=\"url(#p1ee1efe2f2)\" d=\"M 615.841688 181.72 \nL 619.220312 181.72 \nL 619.220312 100.116926 \nL 615.841688 100.116926 \nz\n\" style=\"fill:#0000ff;opacity:0.5;\"/>\n   </g>\n   <g id=\"patch_93\">\n    <path clip-path=\"url(#p1ee1efe2f2)\" d=\"M 619.220312 181.72 \nL 622.598936 181.72 \nL 622.598936 95.482115 \nL 619.220312 95.482115 \nz\n\" style=\"fill:#0000ff;opacity:0.5;\"/>\n   </g>\n   <g id=\"patch_94\">\n    <path clip-path=\"url(#p1ee1efe2f2)\" d=\"M 622.598936 181.72 \nL 625.977551 181.72 \nL 625.977551 93.658319 \nL 622.598936 93.658319 \nz\n\" style=\"fill:#0000ff;opacity:0.5;\"/>\n   </g>\n   <g id=\"patch_95\">\n    <path clip-path=\"url(#p1ee1efe2f2)\" d=\"M 625.977551 181.72 \nL 629.356175 181.72 \nL 629.356175 88.94779 \nL 625.977551 88.94779 \nz\n\" style=\"fill:#0000ff;opacity:0.5;\"/>\n   </g>\n   <g id=\"patch_96\">\n    <path clip-path=\"url(#p1ee1efe2f2)\" d=\"M 629.356175 181.72 \nL 632.734799 181.72 \nL 632.734799 83.477193 \nL 629.356175 83.477193 \nz\n\" style=\"fill:#0000ff;opacity:0.5;\"/>\n   </g>\n   <g id=\"patch_97\">\n    <path clip-path=\"url(#p1ee1efe2f2)\" d=\"M 632.734799 181.72 \nL 636.113424 181.72 \nL 636.113424 84.692881 \nL 632.734799 84.692881 \nz\n\" style=\"fill:#0000ff;opacity:0.5;\"/>\n   </g>\n   <g id=\"patch_98\">\n    <path clip-path=\"url(#p1ee1efe2f2)\" d=\"M 636.113424 181.72 \nL 639.492048 181.72 \nL 639.492048 76.107083 \nL 636.113424 76.107083 \nz\n\" style=\"fill:#0000ff;opacity:0.5;\"/>\n   </g>\n   <g id=\"patch_99\">\n    <path clip-path=\"url(#p1ee1efe2f2)\" d=\"M 639.492038 181.72 \nL 642.870652 181.72 \nL 642.870652 76.030787 \nL 639.492038 76.030787 \nz\n\" style=\"fill:#0000ff;opacity:0.5;\"/>\n   </g>\n   <g id=\"patch_100\">\n    <path clip-path=\"url(#p1ee1efe2f2)\" d=\"M 642.870662 181.72 \nL 646.249286 181.72 \nL 646.249286 71.624233 \nL 642.870662 71.624233 \nz\n\" style=\"fill:#0000ff;opacity:0.5;\"/>\n   </g>\n   <g id=\"patch_101\">\n    <path clip-path=\"url(#p1ee1efe2f2)\" d=\"M 646.249286 181.72 \nL 649.627911 181.72 \nL 649.627911 70.332564 \nL 646.249286 70.332564 \nz\n\" style=\"fill:#0000ff;opacity:0.5;\"/>\n   </g>\n   <g id=\"patch_102\">\n    <path clip-path=\"url(#p1ee1efe2f2)\" d=\"M 649.627911 181.72 \nL 653.006535 181.72 \nL 653.006535 72.384038 \nL 649.627911 72.384038 \nz\n\" style=\"fill:#0000ff;opacity:0.5;\"/>\n   </g>\n   <g id=\"patch_103\">\n    <path clip-path=\"url(#p1ee1efe2f2)\" d=\"M 653.006535 181.72 \nL 656.385149 181.72 \nL 656.385149 68.812616 \nL 653.006535 68.812616 \nz\n\" style=\"fill:#0000ff;opacity:0.5;\"/>\n   </g>\n   <g id=\"patch_104\">\n    <path clip-path=\"url(#p1ee1efe2f2)\" d=\"M 656.385149 181.72 \nL 659.763774 181.72 \nL 659.763774 65.241869 \nL 656.385149 65.241869 \nz\n\" style=\"fill:#0000ff;opacity:0.5;\"/>\n   </g>\n   <g id=\"patch_105\">\n    <path clip-path=\"url(#p1ee1efe2f2)\" d=\"M 659.763774 181.72 \nL 663.142398 181.72 \nL 663.142398 58.783525 \nL 659.763774 58.783525 \nz\n\" style=\"fill:#0000ff;opacity:0.5;\"/>\n   </g>\n   <g id=\"patch_106\">\n    <path clip-path=\"url(#p1ee1efe2f2)\" d=\"M 663.142398 181.72 \nL 666.521022 181.72 \nL 666.521022 54.300675 \nL 663.142398 54.300675 \nz\n\" style=\"fill:#0000ff;opacity:0.5;\"/>\n   </g>\n   <g id=\"patch_107\">\n    <path clip-path=\"url(#p1ee1efe2f2)\" d=\"M 666.521022 181.72 \nL 669.899646 181.72 \nL 669.899646 51.185474 \nL 666.521022 51.185474 \nz\n\" style=\"fill:#0000ff;opacity:0.5;\"/>\n   </g>\n   <g id=\"patch_108\">\n    <path clip-path=\"url(#p1ee1efe2f2)\" d=\"M 669.899636 181.72 \nL 673.278251 181.72 \nL 673.278251 49.513508 \nL 669.899636 49.513508 \nz\n\" style=\"fill:#0000ff;opacity:0.5;\"/>\n   </g>\n   <g id=\"patch_109\">\n    <path clip-path=\"url(#p1ee1efe2f2)\" d=\"M 673.278261 181.72 \nL 676.656885 181.72 \nL 676.656885 51.793318 \nL 673.278261 51.793318 \nz\n\" style=\"fill:#0000ff;opacity:0.5;\"/>\n   </g>\n   <g id=\"patch_110\">\n    <path clip-path=\"url(#p1ee1efe2f2)\" d=\"M 676.656885 181.72 \nL 680.035509 181.72 \nL 680.035509 39.560455 \nL 676.656885 39.560455 \nz\n\" style=\"fill:#0000ff;opacity:0.5;\"/>\n   </g>\n   <g id=\"patch_111\">\n    <path clip-path=\"url(#p1ee1efe2f2)\" d=\"M 680.035509 181.72 \nL 683.414134 181.72 \nL 683.414134 41.611929 \nL 680.035509 41.611929 \nz\n\" style=\"fill:#0000ff;opacity:0.5;\"/>\n   </g>\n   <g id=\"patch_112\">\n    <path clip-path=\"url(#p1ee1efe2f2)\" d=\"M 683.414134 181.72 \nL 686.792748 181.72 \nL 686.792748 29.910476 \nL 683.414134 29.910476 \nz\n\" style=\"fill:#0000ff;opacity:0.5;\"/>\n   </g>\n   <g id=\"patch_113\">\n    <path clip-path=\"url(#p1ee1efe2f2)\" d=\"M 686.792748 181.72 \nL 690.171372 181.72 \nL 690.171372 34.165838 \nL 686.792748 34.165838 \nz\n\" style=\"fill:#0000ff;opacity:0.5;\"/>\n   </g>\n   <g id=\"patch_114\">\n    <path clip-path=\"url(#p1ee1efe2f2)\" d=\"M 690.171372 181.72 \nL 693.549996 181.72 \nL 693.549996 36.065351 \nL 690.171372 36.065351 \nz\n\" style=\"fill:#0000ff;opacity:0.5;\"/>\n   </g>\n   <g id=\"matplotlib.axis_5\">\n    <g id=\"xtick_9\">\n     <g id=\"line2d_18\">\n      <g>\n       <use style=\"stroke:#000000;stroke-width:0.8;\" x=\"524.310961\" xlink:href=\"#m5d9fc164c3\" y=\"181.72\"/>\n      </g>\n     </g>\n     <g id=\"text_20\">\n      <!-- 0.0 -->\n      <g transform=\"translate(516.359399 196.318437)scale(0.1 -0.1)\">\n       <use xlink:href=\"#DejaVuSans-30\"/>\n       <use x=\"63.623047\" xlink:href=\"#DejaVuSans-2e\"/>\n       <use x=\"95.410156\" xlink:href=\"#DejaVuSans-30\"/>\n      </g>\n     </g>\n    </g>\n    <g id=\"xtick_10\">\n     <g id=\"line2d_19\">\n      <g>\n       <use style=\"stroke:#000000;stroke-width:0.8;\" x=\"558.158972\" xlink:href=\"#m5d9fc164c3\" y=\"181.72\"/>\n      </g>\n     </g>\n     <g id=\"text_21\">\n      <!-- 0.2 -->\n      <g transform=\"translate(550.207409 196.318437)scale(0.1 -0.1)\">\n       <use xlink:href=\"#DejaVuSans-30\"/>\n       <use x=\"63.623047\" xlink:href=\"#DejaVuSans-2e\"/>\n       <use x=\"95.410156\" xlink:href=\"#DejaVuSans-32\"/>\n      </g>\n     </g>\n    </g>\n    <g id=\"xtick_11\">\n     <g id=\"line2d_20\">\n      <g>\n       <use style=\"stroke:#000000;stroke-width:0.8;\" x=\"592.006983\" xlink:href=\"#m5d9fc164c3\" y=\"181.72\"/>\n      </g>\n     </g>\n     <g id=\"text_22\">\n      <!-- 0.4 -->\n      <g transform=\"translate(584.05542 196.318437)scale(0.1 -0.1)\">\n       <use xlink:href=\"#DejaVuSans-30\"/>\n       <use x=\"63.623047\" xlink:href=\"#DejaVuSans-2e\"/>\n       <use x=\"95.410156\" xlink:href=\"#DejaVuSans-34\"/>\n      </g>\n     </g>\n    </g>\n    <g id=\"xtick_12\">\n     <g id=\"line2d_21\">\n      <g>\n       <use style=\"stroke:#000000;stroke-width:0.8;\" x=\"625.854994\" xlink:href=\"#m5d9fc164c3\" y=\"181.72\"/>\n      </g>\n     </g>\n     <g id=\"text_23\">\n      <!-- 0.6 -->\n      <g transform=\"translate(617.903431 196.318437)scale(0.1 -0.1)\">\n       <use xlink:href=\"#DejaVuSans-30\"/>\n       <use x=\"63.623047\" xlink:href=\"#DejaVuSans-2e\"/>\n       <use x=\"95.410156\" xlink:href=\"#DejaVuSans-36\"/>\n      </g>\n     </g>\n    </g>\n    <g id=\"xtick_13\">\n     <g id=\"line2d_22\">\n      <g>\n       <use style=\"stroke:#000000;stroke-width:0.8;\" x=\"659.703004\" xlink:href=\"#m5d9fc164c3\" y=\"181.72\"/>\n      </g>\n     </g>\n     <g id=\"text_24\">\n      <!-- 0.8 -->\n      <g transform=\"translate(651.751442 196.318437)scale(0.1 -0.1)\">\n       <use xlink:href=\"#DejaVuSans-30\"/>\n       <use x=\"63.623047\" xlink:href=\"#DejaVuSans-2e\"/>\n       <use x=\"95.410156\" xlink:href=\"#DejaVuSans-38\"/>\n      </g>\n     </g>\n    </g>\n    <g id=\"xtick_14\">\n     <g id=\"line2d_23\">\n      <g>\n       <use style=\"stroke:#000000;stroke-width:0.8;\" x=\"693.551015\" xlink:href=\"#m5d9fc164c3\" y=\"181.72\"/>\n      </g>\n     </g>\n     <g id=\"text_25\">\n      <!-- 1.0 -->\n      <g transform=\"translate(685.599453 196.318437)scale(0.1 -0.1)\">\n       <use xlink:href=\"#DejaVuSans-31\"/>\n       <use x=\"63.623047\" xlink:href=\"#DejaVuSans-2e\"/>\n       <use x=\"95.410156\" xlink:href=\"#DejaVuSans-30\"/>\n      </g>\n     </g>\n    </g>\n   </g>\n   <g id=\"matplotlib.axis_6\">\n    <g id=\"ytick_9\">\n     <g id=\"line2d_24\">\n      <g>\n       <use style=\"stroke:#000000;stroke-width:0.8;\" x=\"515.848958\" xlink:href=\"#m4c9e9a982f\" y=\"181.72\"/>\n      </g>\n     </g>\n     <g id=\"text_26\">\n      <!-- 0.0 -->\n      <g transform=\"translate(492.945833 185.519219)scale(0.1 -0.1)\">\n       <use xlink:href=\"#DejaVuSans-30\"/>\n       <use x=\"63.623047\" xlink:href=\"#DejaVuSans-2e\"/>\n       <use x=\"95.410156\" xlink:href=\"#DejaVuSans-30\"/>\n      </g>\n     </g>\n    </g>\n    <g id=\"ytick_10\">\n     <g id=\"line2d_25\">\n      <g>\n       <use style=\"stroke:#000000;stroke-width:0.8;\" x=\"515.848958\" xlink:href=\"#m4c9e9a982f\" y=\"143.840023\"/>\n      </g>\n     </g>\n     <g id=\"text_27\">\n      <!-- 0.5 -->\n      <g transform=\"translate(492.945833 147.639242)scale(0.1 -0.1)\">\n       <use xlink:href=\"#DejaVuSans-30\"/>\n       <use x=\"63.623047\" xlink:href=\"#DejaVuSans-2e\"/>\n       <use x=\"95.410156\" xlink:href=\"#DejaVuSans-35\"/>\n      </g>\n     </g>\n    </g>\n    <g id=\"ytick_11\">\n     <g id=\"line2d_26\">\n      <g>\n       <use style=\"stroke:#000000;stroke-width:0.8;\" x=\"515.848958\" xlink:href=\"#m4c9e9a982f\" y=\"105.960047\"/>\n      </g>\n     </g>\n     <g id=\"text_28\">\n      <!-- 1.0 -->\n      <g transform=\"translate(492.945833 109.759266)scale(0.1 -0.1)\">\n       <use xlink:href=\"#DejaVuSans-31\"/>\n       <use x=\"63.623047\" xlink:href=\"#DejaVuSans-2e\"/>\n       <use x=\"95.410156\" xlink:href=\"#DejaVuSans-30\"/>\n      </g>\n     </g>\n    </g>\n    <g id=\"ytick_12\">\n     <g id=\"line2d_27\">\n      <g>\n       <use style=\"stroke:#000000;stroke-width:0.8;\" x=\"515.848958\" xlink:href=\"#m4c9e9a982f\" y=\"68.08007\"/>\n      </g>\n     </g>\n     <g id=\"text_29\">\n      <!-- 1.5 -->\n      <g transform=\"translate(492.945833 71.879289)scale(0.1 -0.1)\">\n       <use xlink:href=\"#DejaVuSans-31\"/>\n       <use x=\"63.623047\" xlink:href=\"#DejaVuSans-2e\"/>\n       <use x=\"95.410156\" xlink:href=\"#DejaVuSans-35\"/>\n      </g>\n     </g>\n    </g>\n    <g id=\"ytick_13\">\n     <g id=\"line2d_28\">\n      <g>\n       <use style=\"stroke:#000000;stroke-width:0.8;\" x=\"515.848958\" xlink:href=\"#m4c9e9a982f\" y=\"30.200094\"/>\n      </g>\n     </g>\n     <g id=\"text_30\">\n      <!-- 2.0 -->\n      <g transform=\"translate(492.945833 33.999313)scale(0.1 -0.1)\">\n       <use xlink:href=\"#DejaVuSans-32\"/>\n       <use x=\"63.623047\" xlink:href=\"#DejaVuSans-2e\"/>\n       <use x=\"95.410156\" xlink:href=\"#DejaVuSans-30\"/>\n      </g>\n     </g>\n    </g>\n    <g id=\"text_31\">\n     <!-- $p(X = x \\mid Y = 1)$ -->\n     <g transform=\"translate(486.745833 138.47)rotate(-90)scale(0.1 -0.1)\">\n      <use transform=\"translate(0 0.90625)\" xlink:href=\"#DejaVuSans-Oblique-70\"/>\n      <use transform=\"translate(63.476562 0.90625)\" xlink:href=\"#DejaVuSans-28\"/>\n      <use transform=\"translate(102.490234 0.90625)\" xlink:href=\"#DejaVuSans-Oblique-58\"/>\n      <use transform=\"translate(190.478516 0.90625)\" xlink:href=\"#DejaVuSans-3d\"/>\n      <use transform=\"translate(293.75 0.90625)\" xlink:href=\"#DejaVuSans-Oblique-78\"/>\n      <use transform=\"translate(372.412109 0.90625)\" xlink:href=\"#DejaVuSans-2223\"/>\n      <use transform=\"translate(441.894531 0.90625)\" xlink:href=\"#DejaVuSans-Oblique-59\"/>\n      <use transform=\"translate(522.460938 0.90625)\" xlink:href=\"#DejaVuSans-3d\"/>\n      <use transform=\"translate(625.732422 0.90625)\" xlink:href=\"#DejaVuSans-31\"/>\n      <use transform=\"translate(689.355469 0.90625)\" xlink:href=\"#DejaVuSans-29\"/>\n     </g>\n    </g>\n   </g>\n   <g id=\"line2d_29\">\n    <path clip-path=\"url(#p1ee1efe2f2)\" d=\"M 524.310961 181.72 \nL 693.551015 30.200094 \n\" style=\"fill:none;stroke:#ff7f0e;stroke-linecap:square;stroke-width:1.5;\"/>\n   </g>\n   <g id=\"patch_115\">\n    <path d=\"M 515.848958 181.72 \nL 515.848958 22.32 \n\" style=\"fill:none;stroke:#000000;stroke-linecap:square;stroke-linejoin:miter;stroke-width:0.8;\"/>\n   </g>\n   <g id=\"patch_116\">\n    <path d=\"M 702.013018 181.72 \nL 702.013018 22.32 \n\" style=\"fill:none;stroke:#000000;stroke-linecap:square;stroke-linejoin:miter;stroke-width:0.8;\"/>\n   </g>\n   <g id=\"patch_117\">\n    <path d=\"M 515.848958 181.72 \nL 702.013018 181.72 \n\" style=\"fill:none;stroke:#000000;stroke-linecap:square;stroke-linejoin:miter;stroke-width:0.8;\"/>\n   </g>\n   <g id=\"patch_118\">\n    <path d=\"M 515.848958 22.32 \nL 702.013018 22.32 \n\" style=\"fill:none;stroke:#000000;stroke-linecap:square;stroke-linejoin:miter;stroke-width:0.8;\"/>\n   </g>\n   <g id=\"text_32\">\n    <!-- likelihood for $Y = 1$ -->\n    <g transform=\"translate(553.190988 16.32)scale(0.12 -0.12)\">\n     <use transform=\"translate(0 0.015625)\" xlink:href=\"#DejaVuSans-6c\"/>\n     <use transform=\"translate(27.783203 0.015625)\" xlink:href=\"#DejaVuSans-69\"/>\n     <use transform=\"translate(55.566406 0.015625)\" xlink:href=\"#DejaVuSans-6b\"/>\n     <use transform=\"translate(113.476562 0.015625)\" xlink:href=\"#DejaVuSans-65\"/>\n     <use transform=\"translate(175 0.015625)\" xlink:href=\"#DejaVuSans-6c\"/>\n     <use transform=\"translate(202.783203 0.015625)\" xlink:href=\"#DejaVuSans-69\"/>\n     <use transform=\"translate(230.566406 0.015625)\" xlink:href=\"#DejaVuSans-68\"/>\n     <use transform=\"translate(293.945312 0.015625)\" xlink:href=\"#DejaVuSans-6f\"/>\n     <use transform=\"translate(355.126953 0.015625)\" xlink:href=\"#DejaVuSans-6f\"/>\n     <use transform=\"translate(416.308594 0.015625)\" xlink:href=\"#DejaVuSans-64\"/>\n     <use transform=\"translate(479.785156 0.015625)\" xlink:href=\"#DejaVuSans-20\"/>\n     <use transform=\"translate(511.572266 0.015625)\" xlink:href=\"#DejaVuSans-66\"/>\n     <use transform=\"translate(546.777344 0.015625)\" xlink:href=\"#DejaVuSans-6f\"/>\n     <use transform=\"translate(607.958984 0.015625)\" xlink:href=\"#DejaVuSans-72\"/>\n     <use transform=\"translate(649.072266 0.015625)\" xlink:href=\"#DejaVuSans-20\"/>\n     <use transform=\"translate(680.859375 0.015625)\" xlink:href=\"#DejaVuSans-Oblique-59\"/>\n     <use transform=\"translate(761.425781 0.015625)\" xlink:href=\"#DejaVuSans-3d\"/>\n     <use transform=\"translate(864.697266 0.015625)\" xlink:href=\"#DejaVuSans-31\"/>\n    </g>\n   </g>\n  </g>\n </g>\n <defs>\n  <clipPath id=\"p87f3e58ccc\">\n   <rect height=\"159.4\" width=\"186.16406\" x=\"32.715625\" y=\"22.32\"/>\n  </clipPath>\n  <clipPath id=\"p9149161997\">\n   <rect height=\"159.4\" width=\"186.16406\" x=\"274.282292\" y=\"22.32\"/>\n  </clipPath>\n  <clipPath id=\"p1ee1efe2f2\">\n   <rect height=\"159.4\" width=\"186.16406\" x=\"515.848958\" y=\"22.32\"/>\n  </clipPath>\n </defs>\n</svg>\n",
      "image/png": "[encoded data removed]"
     },
     "metadata": {
      "needs_background": "light"
     }
    }
   ],
   "source": [
    "# Make data\n",
    "def create_data(N,seed=0):\n",
    "    np.random.seed(seed)\n",
    "    data = np.zeros((N, 2), dtype = np.float32)\n",
    "    for i in range(N):\n",
    "        # sample y uniformly between 0 and 1\n",
    "        y = np.random.randint(2)\n",
    "        # use inverse transform sampling for x, given y\n",
    "        u = np.random.rand()\n",
    "        if 0 == y:\n",
    "            x = 1 - np.sqrt(1 - u)\n",
    "        else:\n",
    "            x = np.sqrt(u)\n",
    "        data[i,:] = (x,y)\n",
    "    return data\n",
    "\n",
    "# Generate Data\n",
    "test_data = create_data(100000)\n",
    "X_0 = test_data[test_data[:,1] == 0][:,0]\n",
    "X_1 = test_data[test_data[:,1] == 1][:,0]\n",
    "\n",
    "# show prior and likelihoods for both classes as bar chart and histograms\n",
    "fig = plt.figure(figsize = (10, 3))\n",
    "\n",
    "plt.subplot(131)\n",
    "plt.title(r'prior for class $Y$')\n",
    "plt.bar([0, 1], [X_0.size, X_1.size], width = 0.6)\n",
    "plt.xticks([0,1]); plt.xlim([-0.5, 1.5]); plt.yticks([0,25000,50000], ['0', '25k', '50k'])\n",
    "\n",
    "plt.subplot(132)\n",
    "plt.title(r'likelihood for $Y = 0$')\n",
    "plt.hist(X_0, 50, density = True, facecolor = 'green', alpha = 0.5)\n",
    "plt.ylabel(r'$p(X = x \\mid Y = 0)$')\n",
    "plt.plot([0,1], [2,0])\n",
    "\n",
    "plt.subplot(133)\n",
    "plt.title(r'likelihood for $Y = 1$')\n",
    "plt.hist(X_1, 50, density = True, facecolor = 'blue', alpha = 0.5)\n",
    "plt.ylabel(r'$p(X = x \\mid Y = 1)$')\n",
    "plt.plot([0,1], [0,2])\n",
    "\n",
    "fig.tight_layout(); plt.show()"
   ]
  },
  {
   "cell_type": "markdown",
   "metadata": {
    "deletable": false,
    "editable": false,
    "nbgrader": {
     "cell_type": "markdown",
     "checksum": "58e6531b91bd2bea517103c5fa2f7efa",
     "grade": false,
     "grade_id": "cell-0a70bae0f653a686",
     "locked": true,
     "schema_version": 3,
     "solution": false,
     "task": false
    }
   },
   "source": [
    "### 5.5 Classifier Error rates\n",
    "\n",
    "Now determine \"experimentally\" the error rates for the following classifiers using the random number generation of `create_data()` for the toy problem:\n",
    "\n",
    "* A) Threshold classifier with threshold $x_t$ (for $x_t = 1/2$ this equals Naive Bayes classifier):\n",
    "\n",
    "$$ f_A (x) =  \\begin{cases}\n",
    "\t0 &\\text{if} \\;\\;x < x_t \\\\\n",
    "\t1 & \\text{if} \\;\\;x \\geqslant x_t\n",
    "\t\\end{cases}$$\n",
    "  \n",
    "\n",
    "* B) Constant classifier:\n",
    "\n",
    "$$ f_B(x) = 1$$\n",
    "\n",
    "* C) Random classifier:\n",
    "\n",
    "$$ f_C(x) =  \\begin{cases}\n",
    "\t0 & \\; \\text{with probability} 1/2\\\\\n",
    "\t1 &  \\;\\text{otherwise}\n",
    "\t\\end{cases}$$\n",
    "    \n",
    "* D) Nearest Neighbour classifier (k=1) for a training set $(x_i, y_i) \\in TS$ that is taken from the data above.\n",
    "\n",
    "$$ \\hat{y} = f_D(x;\\text{TS}) = y_{\\hat{i}}^*$$\n",
    "\n",
    "$$\\hat{i} = \\underset{i}{\\text{argmin}}\\; d(x_i,x)$$\n"
   ]
  },
  {
   "cell_type": "code",
   "execution_count": null,
   "metadata": {
    "deletable": false,
    "nbgrader": {
     "cell_type": "code",
     "checksum": "7e63bafffdebb74d7e484949adcafbc0",
     "grade": false,
     "grade_id": "rule_A_B_C",
     "locked": false,
     "schema_version": 3,
     "solution": true,
     "task": false
    }
   },
   "outputs": [],
   "source": [
    "# simple classifiers\n",
    "# implement the classifiers' functions below:\n",
    "def pred_A(x,xt):\n",
    "    pass\n",
    "def pred_B(x):\n",
    "    pass\n",
    "def pred_C(x):\n",
    "    pass\n",
    "\n",
    "# YOUR CODE HERE\n",
    "def pred_A(x,xt):\n",
    "    if x < x_t: return 0\n",
    "    else: return 1\n",
    "def pred_B(x):\n",
    "    return 1\n",
    "def pred_C(x):\n",
    "    return np.random.choice([0, 1])\n",
    "\n",
    "# Determine the error rates\n",
    "def ErrorCount(y_pred, y_true):\n",
    "    CountError = np.array(np.rint(y_true), dtype=np.int) != np.array(np.rint(y_pred),dtype=np.int)\n",
    "    CountError = np.sum(CountError)\n",
    "    return CountError/len(y_true)\n",
    "\n",
    "# Now determine the error rates with std deviation, i.e. create_data(N=100000) for 5 repetitions\n",
    "# For A choose here xt = 0.5\n",
    "dat_mult = [create_data(N=100000,seed=i) for i in range(5)]\n",
    "error_A = None\n",
    "error_A_std = None\n",
    "error_B = None\n",
    "error_B_std = None\n",
    "error_C = None\n",
    "error_C_std = None\n",
    "\n",
    "# YOUR CODE HERE\n",
    "raise NotImplementedError()"
   ]
  },
  {
   "cell_type": "code",
   "execution_count": null,
   "metadata": {
    "deletable": false,
    "nbgrader": {
     "cell_type": "code",
     "checksum": "b1d8b7bbb1b09d8b8e150243ce03577c",
     "grade": false,
     "grade_id": "cell-b221a5f97f07dd3a",
     "locked": false,
     "schema_version": 3,
     "solution": true,
     "task": false
    }
   },
   "outputs": [],
   "source": [
    "# YOUR CODE HERE\n",
    "raise NotImplementedError()"
   ]
  },
  {
   "cell_type": "code",
   "execution_count": null,
   "metadata": {
    "deletable": false,
    "editable": false,
    "nbgrader": {
     "cell_type": "code",
     "checksum": "f64450e62940b9331ccc3559f11c17c3",
     "grade": true,
     "grade_id": "rule_A_B_C_test_A",
     "locked": true,
     "points": 1,
     "schema_version": 3,
     "solution": false,
     "task": false
    }
   },
   "outputs": [],
   "source": [
    "# (1 Points)\n",
    "# Try to assign a single value to the error rates\n",
    "# We will also check the function implementations\n",
    "assert error_A is not None"
   ]
  },
  {
   "cell_type": "code",
   "execution_count": null,
   "metadata": {
    "deletable": false,
    "editable": false,
    "nbgrader": {
     "cell_type": "code",
     "checksum": "984b8e367f4c98914952015da8f083dd",
     "grade": true,
     "grade_id": "rule_A_B_C_test_B",
     "locked": true,
     "points": 1,
     "schema_version": 3,
     "solution": false,
     "task": false
    }
   },
   "outputs": [],
   "source": [
    "# (1 Points)\n",
    "assert error_B is not None"
   ]
  },
  {
   "cell_type": "code",
   "execution_count": null,
   "metadata": {
    "deletable": false,
    "editable": false,
    "nbgrader": {
     "cell_type": "code",
     "checksum": "e3e17b9c9fd8b62d94ed4cf9ef22fd7a",
     "grade": true,
     "grade_id": "rule_A_B_C_test_C",
     "locked": true,
     "points": 1,
     "schema_version": 3,
     "solution": false,
     "task": false
    }
   },
   "outputs": [],
   "source": [
    "# (1 Points)\n",
    "assert error_C is not None"
   ]
  },
  {
   "cell_type": "code",
   "execution_count": null,
   "metadata": {
    "deletable": false,
    "nbgrader": {
     "cell_type": "code",
     "checksum": "47f35fcc367b84ad0c131af91d33fa03",
     "grade": false,
     "grade_id": "rule_D",
     "locked": false,
     "schema_version": 3,
     "solution": true,
     "task": false
    }
   },
   "outputs": [],
   "source": [
    "# Now we have to implement the NN classifier\n",
    "# Tipp: Use the distance function from exercise sheet 3! Or scipy cdist.\n",
    "\n",
    "def nn_classifier(x_test, TS):\n",
    "    \"\"\"Nearest neighbor classifier for arbitrary training-set size.\n",
    "    Use vectorization (ideally).\n",
    "    \n",
    "    Args:\n",
    "        x_test (np.array): data to predict of shape (N,1)\n",
    "        TS (np.array): Training dataset of shape (N,2) with (x,y) in the last dimension.\n",
    "    \n",
    "    Returns:\n",
    "        y_pred (np.array): Prediction of the NN classifier of shape (N,1) with dtype=np.int\n",
    "    \"\"\"  \n",
    "    pass\n",
    "\n",
    "    # YOUR CODE HERE\n",
    "    raise NotImplementedError()\n",
    "\n",
    "    \n",
    "dat_mult = [create_data(N=100000,seed=i) for i in range(5)] # For training\n",
    "test_mult = [create_data(N=100,seed=i+100) for i in range(5)] # For testing\n",
    "error_NN = None\n",
    "error_NN_std = None\n",
    "\n",
    "# YOUR CODE HERE\n",
    "raise NotImplementedError()"
   ]
  },
  {
   "cell_type": "code",
   "execution_count": null,
   "metadata": {
    "deletable": false,
    "nbgrader": {
     "cell_type": "code",
     "checksum": "3dd79d73ce56d13bb226f2345d527f24",
     "grade": false,
     "grade_id": "cell-52f1aef336bb5f70",
     "locked": false,
     "schema_version": 3,
     "solution": true,
     "task": false
    }
   },
   "outputs": [],
   "source": [
    "# YOUR CODE HERE\n",
    "raise NotImplementedError()"
   ]
  },
  {
   "cell_type": "code",
   "execution_count": null,
   "metadata": {
    "deletable": false,
    "editable": false,
    "nbgrader": {
     "cell_type": "code",
     "checksum": "3f1c3681df73403460d9d399ebf8aaa2",
     "grade": true,
     "grade_id": "rule_D_test",
     "locked": true,
     "points": 2,
     "schema_version": 3,
     "solution": false,
     "task": false
    }
   },
   "outputs": [],
   "source": [
    "# (2 Points)\n",
    "# We will also test the function nn_classifier(x_test,TS)\n",
    "assert error_NN is not None\n",
    "assert error_NN_std is not None"
   ]
  },
  {
   "cell_type": "code",
   "execution_count": null,
   "metadata": {
    "deletable": false,
    "editable": false,
    "nbgrader": {
     "cell_type": "code",
     "checksum": "28e0aafe9c3b2845dac943fcc35e9453",
     "grade": true,
     "grade_id": "rule_D_test_NN",
     "locked": true,
     "points": 1,
     "schema_version": 3,
     "solution": false,
     "task": false
    }
   },
   "outputs": [],
   "source": [
    "# (1 Points)\n",
    "assert nn_classifier(np.array([[0.0]]), np.array([[0.0,0.0]])) is not None"
   ]
  },
  {
   "cell_type": "markdown",
   "metadata": {
    "deletable": false,
    "editable": false,
    "nbgrader": {
     "cell_type": "markdown",
     "checksum": "3d3d985f01f2fa3cac1814a9dea5d30c",
     "grade": false,
     "grade_id": "cell-ddb431ec02132cd9",
     "locked": true,
     "schema_version": 3,
     "solution": false,
     "task": false
    }
   },
   "source": [
    "Evaluate the error rate as a function of the dataset size and plot it (not graded)."
   ]
  },
  {
   "cell_type": "code",
   "execution_count": null,
   "metadata": {
    "deletable": false,
    "nbgrader": {
     "cell_type": "code",
     "checksum": "1c4f6dd7adbd04b1e175ad1f0ae03f5a",
     "grade": false,
     "grade_id": "cell-35e815499c5c52ba",
     "locked": false,
     "schema_version": 3,
     "solution": true,
     "task": false
    }
   },
   "outputs": [],
   "source": [
    "dat_grid = [[create_data(N=n,seed=i) for i in range(5)] for n in [50,100,1000,10000,100000]]\n",
    "test_grid_nn = [[create_data(N=n,seed=i+100) for i in range(5)] for n in [5,10,100,100,1000]]\n",
    "\n",
    "# Evaluate the error rate for the 4 rules as above and different size in dat_grid. \n",
    "# for nearest neighbour simply pick the separate test_grid_nn\n",
    "\n",
    "# YOUR CODE HERE\n",
    "raise NotImplementedError()"
   ]
  },
  {
   "cell_type": "code",
   "execution_count": null,
   "metadata": {
    "deletable": false,
    "nbgrader": {
     "cell_type": "code",
     "checksum": "29c2d6022d7f3ae22b20b2f64ad8af84",
     "grade": false,
     "grade_id": "cell-b8e819f7cf5f9674",
     "locked": false,
     "schema_version": 3,
     "solution": true,
     "task": false
    }
   },
   "outputs": [],
   "source": [
    "#Plot results\n",
    "# YOUR CODE HERE\n",
    "raise NotImplementedError()"
   ]
  }
 ],
 "metadata": {
  "kernelspec": {
   "display_name": "Python 3.8.5 64-bit ('.venv': venv)",
   "language": "python",
   "name": "python385jvsc74a57bd0bdebea0f73b010dca4a2b73eacbfde004539419097f6d16f955b4eff0c535e43"
  },
  "language_info": {
   "codemirror_mode": {
    "name": "ipython",
    "version": 3
   },
   "file_extension": ".py",
   "mimetype": "text/x-python",
   "name": "python",
   "nbconvert_exporter": "python",
   "pygments_lexer": "ipython3",
   "version": "3.8.5"
  }
 },
 "nbformat": 4,
 "nbformat_minor": 4
}